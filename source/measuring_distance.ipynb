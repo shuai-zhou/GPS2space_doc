{
 "cells": [
  {
   "cell_type": "markdown",
   "metadata": {},
   "source": [
    "# Measuring Distance"
   ]
  },
  {
   "cell_type": "markdown",
   "metadata": {},
   "source": [
    "## Point to Point distance"
   ]
  },
  {
   "cell_type": "markdown",
   "metadata": {},
   "source": [
    "In spatial analysis, we often want to know the shortest distance between two features. For example, we may want to know the distance from residence to pharmacy store to see if the distance affects people's health. Or, we may be interested in whether the distance to airport or highway affects population growth. In this example, we will measure the nearest distance to airport in Pennsylvania, USA."
   ]
  },
  {
   "cell_type": "markdown",
   "metadata": {},
   "source": [
    "As usual, we need to import libraries we will be using."
   ]
  },
  {
   "cell_type": "code",
   "execution_count": 1,
   "metadata": {},
   "outputs": [],
   "source": [
    "%matplotlib inline\n",
    "\n",
    "import numpy as np\n",
    "import pandas as pd\n",
    "import geopandas as gpd\n",
    "import matplotlib.pyplot as plt"
   ]
  },
  {
   "cell_type": "markdown",
   "metadata": {},
   "source": [
    "Then, we load the example data and airport data and explore the data by plotting them together."
   ]
  },
  {
   "cell_type": "code",
   "execution_count": 2,
   "metadata": {},
   "outputs": [],
   "source": [
    "df = pd.read_csv('../data/example.csv')"
   ]
  },
  {
   "cell_type": "code",
   "execution_count": 3,
   "metadata": {},
   "outputs": [
    {
     "data": {
      "text/html": [
       "<div>\n",
       "<style scoped>\n",
       "    .dataframe tbody tr th:only-of-type {\n",
       "        vertical-align: middle;\n",
       "    }\n",
       "\n",
       "    .dataframe tbody tr th {\n",
       "        vertical-align: top;\n",
       "    }\n",
       "\n",
       "    .dataframe thead th {\n",
       "        text-align: right;\n",
       "    }\n",
       "</style>\n",
       "<table border=\"1\" class=\"dataframe\">\n",
       "  <thead>\n",
       "    <tr style=\"text-align: right;\">\n",
       "      <th></th>\n",
       "      <th>pid</th>\n",
       "      <th>timestamp</th>\n",
       "      <th>latitude</th>\n",
       "      <th>longitude</th>\n",
       "      <th>geometry</th>\n",
       "    </tr>\n",
       "  </thead>\n",
       "  <tbody>\n",
       "    <tr>\n",
       "      <th>0</th>\n",
       "      <td>P2</td>\n",
       "      <td>2020-04-27 10:42:22.162176000</td>\n",
       "      <td>40.993799</td>\n",
       "      <td>-76.669419</td>\n",
       "      <td>POINT (-76.66942 40.99380)</td>\n",
       "    </tr>\n",
       "    <tr>\n",
       "      <th>1</th>\n",
       "      <td>P2</td>\n",
       "      <td>2020-06-02 01:12:45.308505600</td>\n",
       "      <td>39.946904</td>\n",
       "      <td>-78.926234</td>\n",
       "      <td>POINT (-78.92623 39.94690)</td>\n",
       "    </tr>\n",
       "    <tr>\n",
       "      <th>2</th>\n",
       "      <td>P2</td>\n",
       "      <td>2020-05-08 23:47:33.718185600</td>\n",
       "      <td>41.237403</td>\n",
       "      <td>-79.252317</td>\n",
       "      <td>POINT (-79.25232 41.23740)</td>\n",
       "    </tr>\n",
       "    <tr>\n",
       "      <th>3</th>\n",
       "      <td>P2</td>\n",
       "      <td>2020-04-26 14:31:12.100310400</td>\n",
       "      <td>41.991390</td>\n",
       "      <td>-77.467769</td>\n",
       "      <td>POINT (-77.46777 41.99139)</td>\n",
       "    </tr>\n",
       "    <tr>\n",
       "      <th>4</th>\n",
       "      <td>P2</td>\n",
       "      <td>2020-03-31 15:53:27.777897600</td>\n",
       "      <td>41.492674</td>\n",
       "      <td>-76.542921</td>\n",
       "      <td>POINT (-76.54292 41.49267)</td>\n",
       "    </tr>\n",
       "  </tbody>\n",
       "</table>\n",
       "</div>"
      ],
      "text/plain": [
       "  pid                      timestamp   latitude  longitude  \\\n",
       "0  P2  2020-04-27 10:42:22.162176000  40.993799 -76.669419   \n",
       "1  P2  2020-06-02 01:12:45.308505600  39.946904 -78.926234   \n",
       "2  P2  2020-05-08 23:47:33.718185600  41.237403 -79.252317   \n",
       "3  P2  2020-04-26 14:31:12.100310400  41.991390 -77.467769   \n",
       "4  P2  2020-03-31 15:53:27.777897600  41.492674 -76.542921   \n",
       "\n",
       "                     geometry  \n",
       "0  POINT (-76.66942 40.99380)  \n",
       "1  POINT (-78.92623 39.94690)  \n",
       "2  POINT (-79.25232 41.23740)  \n",
       "3  POINT (-77.46777 41.99139)  \n",
       "4  POINT (-76.54292 41.49267)  "
      ]
     },
     "execution_count": 3,
     "metadata": {},
     "output_type": "execute_result"
    }
   ],
   "source": [
    "from gps2space import geodf\n",
    "gdf = geodf.df_to_gdf(df, x='longitude', y='latitude')\n",
    "gdf.head()"
   ]
  },
  {
   "cell_type": "code",
   "execution_count": 4,
   "metadata": {},
   "outputs": [
    {
     "data": {
      "text/html": [
       "<div>\n",
       "<style scoped>\n",
       "    .dataframe tbody tr th:only-of-type {\n",
       "        vertical-align: middle;\n",
       "    }\n",
       "\n",
       "    .dataframe tbody tr th {\n",
       "        vertical-align: top;\n",
       "    }\n",
       "\n",
       "    .dataframe thead th {\n",
       "        text-align: right;\n",
       "    }\n",
       "</style>\n",
       "<table border=\"1\" class=\"dataframe\">\n",
       "  <thead>\n",
       "    <tr style=\"text-align: right;\">\n",
       "      <th></th>\n",
       "      <th>STATE</th>\n",
       "      <th>NAME</th>\n",
       "      <th>geometry</th>\n",
       "    </tr>\n",
       "  </thead>\n",
       "  <tbody>\n",
       "    <tr>\n",
       "      <th>0</th>\n",
       "      <td>Pennsylvania</td>\n",
       "      <td>Erie International</td>\n",
       "      <td>POINT (-80.17600 42.08208)</td>\n",
       "    </tr>\n",
       "    <tr>\n",
       "      <th>1</th>\n",
       "      <td>Pennsylvania</td>\n",
       "      <td>Bradford Regional</td>\n",
       "      <td>POINT (-78.63987 41.80313)</td>\n",
       "    </tr>\n",
       "    <tr>\n",
       "      <th>2</th>\n",
       "      <td>Pennsylvania</td>\n",
       "      <td>Venango Regional</td>\n",
       "      <td>POINT (-79.86014 41.37793)</td>\n",
       "    </tr>\n",
       "    <tr>\n",
       "      <th>3</th>\n",
       "      <td>Pennsylvania</td>\n",
       "      <td>Wilkes-Barre/Scranton International</td>\n",
       "      <td>POINT (-75.72390 41.33823)</td>\n",
       "    </tr>\n",
       "    <tr>\n",
       "      <th>4</th>\n",
       "      <td>Pennsylvania</td>\n",
       "      <td>Williamsport Regional</td>\n",
       "      <td>POINT (-76.92144 41.24205)</td>\n",
       "    </tr>\n",
       "  </tbody>\n",
       "</table>\n",
       "</div>"
      ],
      "text/plain": [
       "          STATE                                 NAME  \\\n",
       "0  Pennsylvania                   Erie International   \n",
       "1  Pennsylvania                    Bradford Regional   \n",
       "2  Pennsylvania                     Venango Regional   \n",
       "3  Pennsylvania  Wilkes-Barre/Scranton International   \n",
       "4  Pennsylvania                Williamsport Regional   \n",
       "\n",
       "                     geometry  \n",
       "0  POINT (-80.17600 42.08208)  \n",
       "1  POINT (-78.63987 41.80313)  \n",
       "2  POINT (-79.86014 41.37793)  \n",
       "3  POINT (-75.72390 41.33823)  \n",
       "4  POINT (-76.92144 41.24205)  "
      ]
     },
     "execution_count": 4,
     "metadata": {},
     "output_type": "execute_result"
    }
   ],
   "source": [
    "airport = gpd.read_file('../data/paairport.shp')\n",
    "airport.head()"
   ]
  },
  {
   "cell_type": "code",
   "execution_count": 5,
   "metadata": {},
   "outputs": [],
   "source": [
    "pacounty = gpd.read_file('../data/pacounty.shp')"
   ]
  },
  {
   "cell_type": "code",
   "execution_count": 6,
   "metadata": {},
   "outputs": [
    {
     "data": {
      "image/png": "[encoded data removed]",
      "text/plain": [
       "<Figure size 864x864 with 1 Axes>"
      ]
     },
     "metadata": {
      "needs_background": "light"
     },
     "output_type": "display_data"
    }
   ],
   "source": [
    "ax = pacounty.boundary.plot(figsize=(12, 12), edgecolor='black', linewidth=0.6)\n",
    "gdf.plot(ax=ax, color='r')\n",
    "airport.plot(ax=ax, color='g', marker='*', markersize=60)\n",
    "\n",
    "plt.show();"
   ]
  },
  {
   "cell_type": "markdown",
   "metadata": {},
   "source": [
    "The red dots are the footprints of Person 1 (P1) and Person 2 (P2) while the green stars are the airports in Pennsylvania, USA.\n",
    "\n",
    "We can calculate the distance from each point of P1 and P2 to the nearest airport using the `dist_to_point` function in the `dist` module. The `dist_to_point` function takes three parameters:\n",
    "\n",
    "- gdf_a: This is the GeoDataFrame of P1 and P2's footprints\n",
    "- gdf_b: This is the landmark from where you want to measure the distance\n",
    "- proj: This is the EPSG identifier you want to use to project your spatial data and will be applied to gdf_a and gdf_b"
   ]
  },
  {
   "cell_type": "markdown",
   "metadata": {},
   "source": [
    "Because the airport data come from other source, we do not know if it has been projected or what is the projection system. So we want to check the projection system for airport data."
   ]
  },
  {
   "cell_type": "code",
   "execution_count": 7,
   "metadata": {},
   "outputs": [],
   "source": [
    "airport.crs"
   ]
  },
  {
   "cell_type": "markdown",
   "metadata": {},
   "source": [
    "It returns nothing, which means this data do not have projection. We will give it an initial projection of **EPSG:4326**."
   ]
  },
  {
   "cell_type": "code",
   "execution_count": 8,
   "metadata": {},
   "outputs": [],
   "source": [
    "airport.crs = (\"epsg:4326\")"
   ]
  },
  {
   "cell_type": "markdown",
   "metadata": {},
   "source": [
    "Now, we can import the `dist` function to calculate the distance from each point of P1 and P2 to the nearest airport."
   ]
  },
  {
   "cell_type": "code",
   "execution_count": 9,
   "metadata": {},
   "outputs": [],
   "source": [
    "from gps2space import dist"
   ]
  },
  {
   "cell_type": "code",
   "execution_count": 10,
   "metadata": {},
   "outputs": [],
   "source": [
    "dist_to_airport = dist.dist_to_point(gdf, airport, proj=2163)"
   ]
  },
  {
   "cell_type": "code",
   "execution_count": 11,
   "metadata": {},
   "outputs": [
    {
     "data": {
      "text/html": [
       "<div>\n",
       "<style scoped>\n",
       "    .dataframe tbody tr th:only-of-type {\n",
       "        vertical-align: middle;\n",
       "    }\n",
       "\n",
       "    .dataframe tbody tr th {\n",
       "        vertical-align: top;\n",
       "    }\n",
       "\n",
       "    .dataframe thead th {\n",
       "        text-align: right;\n",
       "    }\n",
       "</style>\n",
       "<table border=\"1\" class=\"dataframe\">\n",
       "  <thead>\n",
       "    <tr style=\"text-align: right;\">\n",
       "      <th></th>\n",
       "      <th>pid</th>\n",
       "      <th>timestamp</th>\n",
       "      <th>latitude</th>\n",
       "      <th>longitude</th>\n",
       "      <th>geometry</th>\n",
       "      <th>STATE</th>\n",
       "      <th>NAME</th>\n",
       "      <th>dist2point</th>\n",
       "    </tr>\n",
       "  </thead>\n",
       "  <tbody>\n",
       "    <tr>\n",
       "      <th>0</th>\n",
       "      <td>P2</td>\n",
       "      <td>2020-04-27 10:42:22.162176000</td>\n",
       "      <td>40.993799</td>\n",
       "      <td>-76.669419</td>\n",
       "      <td>POINT (1926745.083 -169042.499)</td>\n",
       "      <td>Pennsylvania</td>\n",
       "      <td>Williamsport Regional</td>\n",
       "      <td>34579.711173</td>\n",
       "    </tr>\n",
       "    <tr>\n",
       "      <th>1</th>\n",
       "      <td>P2</td>\n",
       "      <td>2020-06-02 01:12:45.308505600</td>\n",
       "      <td>39.946904</td>\n",
       "      <td>-78.926234</td>\n",
       "      <td>POINT (1774126.223 -333525.438)</td>\n",
       "      <td>Pennsylvania</td>\n",
       "      <td>Johnstown-Cambria County</td>\n",
       "      <td>42187.331826</td>\n",
       "    </tr>\n",
       "    <tr>\n",
       "      <th>2</th>\n",
       "      <td>P2</td>\n",
       "      <td>2020-05-08 23:47:33.718185600</td>\n",
       "      <td>41.237403</td>\n",
       "      <td>-79.252317</td>\n",
       "      <td>POINT (1712951.727 -200231.269)</td>\n",
       "      <td>Pennsylvania</td>\n",
       "      <td>Du Bois-Jefferson County</td>\n",
       "      <td>30051.080354</td>\n",
       "    </tr>\n",
       "    <tr>\n",
       "      <th>3</th>\n",
       "      <td>P2</td>\n",
       "      <td>2020-04-26 14:31:12.100310400</td>\n",
       "      <td>41.991390</td>\n",
       "      <td>-77.467769</td>\n",
       "      <td>POINT (1833671.313 -79623.054)</td>\n",
       "      <td>Pennsylvania</td>\n",
       "      <td>Williamsport Regional</td>\n",
       "      <td>94804.346362</td>\n",
       "    </tr>\n",
       "    <tr>\n",
       "      <th>4</th>\n",
       "      <td>P2</td>\n",
       "      <td>2020-03-31 15:53:27.777897600</td>\n",
       "      <td>41.492674</td>\n",
       "      <td>-76.542921</td>\n",
       "      <td>POINT (1921659.985 -112174.444)</td>\n",
       "      <td>Pennsylvania</td>\n",
       "      <td>Williamsport Regional</td>\n",
       "      <td>42388.435141</td>\n",
       "    </tr>\n",
       "  </tbody>\n",
       "</table>\n",
       "</div>"
      ],
      "text/plain": [
       "  pid                      timestamp   latitude  longitude  \\\n",
       "0  P2  2020-04-27 10:42:22.162176000  40.993799 -76.669419   \n",
       "1  P2  2020-06-02 01:12:45.308505600  39.946904 -78.926234   \n",
       "2  P2  2020-05-08 23:47:33.718185600  41.237403 -79.252317   \n",
       "3  P2  2020-04-26 14:31:12.100310400  41.991390 -77.467769   \n",
       "4  P2  2020-03-31 15:53:27.777897600  41.492674 -76.542921   \n",
       "\n",
       "                          geometry         STATE                      NAME  \\\n",
       "0  POINT (1926745.083 -169042.499)  Pennsylvania     Williamsport Regional   \n",
       "1  POINT (1774126.223 -333525.438)  Pennsylvania  Johnstown-Cambria County   \n",
       "2  POINT (1712951.727 -200231.269)  Pennsylvania  Du Bois-Jefferson County   \n",
       "3   POINT (1833671.313 -79623.054)  Pennsylvania     Williamsport Regional   \n",
       "4  POINT (1921659.985 -112174.444)  Pennsylvania     Williamsport Regional   \n",
       "\n",
       "     dist2point  \n",
       "0  34579.711173  \n",
       "1  42187.331826  \n",
       "2  30051.080354  \n",
       "3  94804.346362  \n",
       "4  42388.435141  "
      ]
     },
     "execution_count": 11,
     "metadata": {},
     "output_type": "execute_result"
    }
   ],
   "source": [
    "dist_to_airport.head()"
   ]
  },
  {
   "cell_type": "markdown",
   "metadata": {},
   "source": [
    "The `dist2point` column represents the distance from each point to the nearest airport measured in meters. Likewise, you can then save the GeoDataFrame to a spatial dataset or non-spatial dataset as we did in the last section."
   ]
  },
  {
   "cell_type": "markdown",
   "metadata": {},
   "source": [
    "## Point to Polygon distance"
   ]
  },
  {
   "cell_type": "markdown",
   "metadata": {},
   "source": [
    "In this example, we want to calculate the nearest distance to parks represented in polygons using `dist_to_poly` function. The `dist_to_poly` function incorporates R-tree and spatial indexing technologies to boost the nearest neighbor query. The `dist_to_poly` function takes four parameters:\n",
    "\n",
    "- gdf_source: This is the source GeoPandas dataframe\n",
    "- gdf_target: This is the target GeoPandas dataframe\n",
    "- proj: This is the EPSG identifier you want to use to project your spatial data and will be applied to gdf_source and gdf_target\n",
    "- search_radius: This is the search radius in meters with a default value of None\n",
    "\n",
    "Please note that:\n",
    "\n",
    "1. If `search_radius` is specified, points with no neighbors within the search radius, then the `dist_to_poly` function returns a `NaN` value\n",
    "2. If `search_radius` is not specified, the `dist_to_poly` function employs brute-force search to find the nearest distance, and it may take longer time to calculate the nearest distance, especially for data in larger volumes"
   ]
  },
  {
   "cell_type": "markdown",
   "metadata": {},
   "source": [
    "As usual, we read the park data as a GeoPandas dataframe. Then we illustrate how `dist_to_poly` works using two examples: an example specifying the `search_radius` and another example without specifying the `search_radius`"
   ]
  },
  {
   "cell_type": "code",
   "execution_count": 12,
   "metadata": {},
   "outputs": [
    {
     "data": {
      "text/html": [
       "<div>\n",
       "<style scoped>\n",
       "    .dataframe tbody tr th:only-of-type {\n",
       "        vertical-align: middle;\n",
       "    }\n",
       "\n",
       "    .dataframe tbody tr th {\n",
       "        vertical-align: top;\n",
       "    }\n",
       "\n",
       "    .dataframe thead th {\n",
       "        text-align: right;\n",
       "    }\n",
       "</style>\n",
       "<table border=\"1\" class=\"dataframe\">\n",
       "  <thead>\n",
       "    <tr style=\"text-align: right;\">\n",
       "      <th></th>\n",
       "      <th>park_id</th>\n",
       "      <th>park_name</th>\n",
       "      <th>park_acres</th>\n",
       "      <th>geometry</th>\n",
       "    </tr>\n",
       "  </thead>\n",
       "  <tbody>\n",
       "    <tr>\n",
       "      <th>0</th>\n",
       "      <td>1</td>\n",
       "      <td>11th Avenue Playground</td>\n",
       "      <td>1.48</td>\n",
       "      <td>POLYGON ((-79.89948 40.40552, -79.89946 40.406...</td>\n",
       "    </tr>\n",
       "    <tr>\n",
       "      <th>1</th>\n",
       "      <td>22</td>\n",
       "      <td>Alpine Parklet</td>\n",
       "      <td>0.12</td>\n",
       "      <td>POLYGON ((-80.01282 40.45765, -80.01303 40.457...</td>\n",
       "    </tr>\n",
       "    <tr>\n",
       "      <th>2</th>\n",
       "      <td>6117</td>\n",
       "      <td>Negley Park</td>\n",
       "      <td>18.46</td>\n",
       "      <td>POLYGON ((-76.89575 40.25092, -76.89178 40.249...</td>\n",
       "    </tr>\n",
       "    <tr>\n",
       "      <th>3</th>\n",
       "      <td>8202</td>\n",
       "      <td>Deer Lake Community Park</td>\n",
       "      <td>32.76</td>\n",
       "      <td>MULTIPOLYGON (((-76.05700 40.62615, -76.05696 ...</td>\n",
       "    </tr>\n",
       "    <tr>\n",
       "      <th>4</th>\n",
       "      <td>8215</td>\n",
       "      <td>Delano Playground</td>\n",
       "      <td>1.37</td>\n",
       "      <td>POLYGON ((-75.97098 40.80281, -75.97062 40.801...</td>\n",
       "    </tr>\n",
       "  </tbody>\n",
       "</table>\n",
       "</div>"
      ],
      "text/plain": [
       "   park_id                 park_name  park_acres  \\\n",
       "0        1    11th Avenue Playground        1.48   \n",
       "1       22            Alpine Parklet        0.12   \n",
       "2     6117               Negley Park       18.46   \n",
       "3     8202  Deer Lake Community Park       32.76   \n",
       "4     8215         Delano Playground        1.37   \n",
       "\n",
       "                                            geometry  \n",
       "0  POLYGON ((-79.89948 40.40552, -79.89946 40.406...  \n",
       "1  POLYGON ((-80.01282 40.45765, -80.01303 40.457...  \n",
       "2  POLYGON ((-76.89575 40.25092, -76.89178 40.249...  \n",
       "3  MULTIPOLYGON (((-76.05700 40.62615, -76.05696 ...  \n",
       "4  POLYGON ((-75.97098 40.80281, -75.97062 40.801...  "
      ]
     },
     "execution_count": 12,
     "metadata": {},
     "output_type": "execute_result"
    }
   ],
   "source": [
    "park = gpd.read_file('../data/papark.shp')\n",
    "park.head()"
   ]
  },
  {
   "cell_type": "markdown",
   "metadata": {},
   "source": [
    "### Specifying `search_radius`"
   ]
  },
  {
   "cell_type": "code",
   "execution_count": 13,
   "metadata": {},
   "outputs": [
    {
     "name": "stdout",
     "output_type": "stream",
     "text": [
      "A search_radius of 10000 meters is specified. Points with no neighbors intersected with thte search radius will return NaN.\n",
      "Wall time: 4.57 s\n"
     ]
    }
   ],
   "source": [
    "%%time\n",
    "dist_with_search_radius = dist.dist_to_poly(gdf, park, proj=2163, search_radius=10000)"
   ]
  },
  {
   "cell_type": "code",
   "execution_count": 14,
   "metadata": {},
   "outputs": [
    {
     "data": {
      "text/html": [
       "<div>\n",
       "<style scoped>\n",
       "    .dataframe tbody tr th:only-of-type {\n",
       "        vertical-align: middle;\n",
       "    }\n",
       "\n",
       "    .dataframe tbody tr th {\n",
       "        vertical-align: top;\n",
       "    }\n",
       "\n",
       "    .dataframe thead th {\n",
       "        text-align: right;\n",
       "    }\n",
       "</style>\n",
       "<table border=\"1\" class=\"dataframe\">\n",
       "  <thead>\n",
       "    <tr style=\"text-align: right;\">\n",
       "      <th></th>\n",
       "      <th>pid</th>\n",
       "      <th>timestamp</th>\n",
       "      <th>latitude</th>\n",
       "      <th>longitude</th>\n",
       "      <th>geometry</th>\n",
       "      <th>dist2poly</th>\n",
       "    </tr>\n",
       "  </thead>\n",
       "  <tbody>\n",
       "    <tr>\n",
       "      <th>0</th>\n",
       "      <td>P2</td>\n",
       "      <td>2020-04-27 10:42:22.162176000</td>\n",
       "      <td>40.993799</td>\n",
       "      <td>-76.669419</td>\n",
       "      <td>POINT (1926745.083 -169042.499)</td>\n",
       "      <td>3143.431951</td>\n",
       "    </tr>\n",
       "    <tr>\n",
       "      <th>1</th>\n",
       "      <td>P2</td>\n",
       "      <td>2020-06-02 01:12:45.308505600</td>\n",
       "      <td>39.946904</td>\n",
       "      <td>-78.926234</td>\n",
       "      <td>POINT (1774126.223 -333525.438)</td>\n",
       "      <td>4007.426442</td>\n",
       "    </tr>\n",
       "    <tr>\n",
       "      <th>2</th>\n",
       "      <td>P2</td>\n",
       "      <td>2020-05-08 23:47:33.718185600</td>\n",
       "      <td>41.237403</td>\n",
       "      <td>-79.252317</td>\n",
       "      <td>POINT (1712951.727 -200231.269)</td>\n",
       "      <td>7198.553223</td>\n",
       "    </tr>\n",
       "    <tr>\n",
       "      <th>3</th>\n",
       "      <td>P2</td>\n",
       "      <td>2020-04-26 14:31:12.100310400</td>\n",
       "      <td>41.991390</td>\n",
       "      <td>-77.467769</td>\n",
       "      <td>POINT (1833671.313 -79623.054)</td>\n",
       "      <td>4418.972172</td>\n",
       "    </tr>\n",
       "    <tr>\n",
       "      <th>4</th>\n",
       "      <td>P2</td>\n",
       "      <td>2020-03-31 15:53:27.777897600</td>\n",
       "      <td>41.492674</td>\n",
       "      <td>-76.542921</td>\n",
       "      <td>POINT (1921659.985 -112174.444)</td>\n",
       "      <td>4997.223163</td>\n",
       "    </tr>\n",
       "    <tr>\n",
       "      <th>...</th>\n",
       "      <td>...</td>\n",
       "      <td>...</td>\n",
       "      <td>...</td>\n",
       "      <td>...</td>\n",
       "      <td>...</td>\n",
       "      <td>...</td>\n",
       "    </tr>\n",
       "    <tr>\n",
       "      <th>195</th>\n",
       "      <td>P1</td>\n",
       "      <td>2020-04-14 22:59:47.187801600</td>\n",
       "      <td>40.592932</td>\n",
       "      <td>-77.002548</td>\n",
       "      <td>POINT (1912029.573 -220204.526)</td>\n",
       "      <td>2789.935358</td>\n",
       "    </tr>\n",
       "    <tr>\n",
       "      <th>196</th>\n",
       "      <td>P1</td>\n",
       "      <td>2020-02-18 16:00:05.505350400</td>\n",
       "      <td>40.263436</td>\n",
       "      <td>-80.322911</td>\n",
       "      <td>POINT (1651469.678 -328218.968)</td>\n",
       "      <td>3433.440261</td>\n",
       "    </tr>\n",
       "    <tr>\n",
       "      <th>197</th>\n",
       "      <td>P1</td>\n",
       "      <td>2020-02-24 10:22:29.605353600</td>\n",
       "      <td>40.726640</td>\n",
       "      <td>-76.403706</td>\n",
       "      <td>POINT (1956064.504 -191577.975)</td>\n",
       "      <td>6104.559787</td>\n",
       "    </tr>\n",
       "    <tr>\n",
       "      <th>198</th>\n",
       "      <td>P1</td>\n",
       "      <td>2020-01-13 10:02:15.962697600</td>\n",
       "      <td>40.279678</td>\n",
       "      <td>-77.898978</td>\n",
       "      <td>POINT (1848682.909 -274721.379)</td>\n",
       "      <td>2696.384797</td>\n",
       "    </tr>\n",
       "    <tr>\n",
       "      <th>199</th>\n",
       "      <td>P1</td>\n",
       "      <td>2020-04-02 23:09:49.639881600</td>\n",
       "      <td>41.660656</td>\n",
       "      <td>-79.830351</td>\n",
       "      <td>POINT (1655332.627 -166134.557)</td>\n",
       "      <td>5926.050348</td>\n",
       "    </tr>\n",
       "  </tbody>\n",
       "</table>\n",
       "<p>200 rows × 6 columns</p>\n",
       "</div>"
      ],
      "text/plain": [
       "    pid                      timestamp   latitude  longitude  \\\n",
       "0    P2  2020-04-27 10:42:22.162176000  40.993799 -76.669419   \n",
       "1    P2  2020-06-02 01:12:45.308505600  39.946904 -78.926234   \n",
       "2    P2  2020-05-08 23:47:33.718185600  41.237403 -79.252317   \n",
       "3    P2  2020-04-26 14:31:12.100310400  41.991390 -77.467769   \n",
       "4    P2  2020-03-31 15:53:27.777897600  41.492674 -76.542921   \n",
       "..   ..                            ...        ...        ...   \n",
       "195  P1  2020-04-14 22:59:47.187801600  40.592932 -77.002548   \n",
       "196  P1  2020-02-18 16:00:05.505350400  40.263436 -80.322911   \n",
       "197  P1  2020-02-24 10:22:29.605353600  40.726640 -76.403706   \n",
       "198  P1  2020-01-13 10:02:15.962697600  40.279678 -77.898978   \n",
       "199  P1  2020-04-02 23:09:49.639881600  41.660656 -79.830351   \n",
       "\n",
       "                            geometry    dist2poly  \n",
       "0    POINT (1926745.083 -169042.499)  3143.431951  \n",
       "1    POINT (1774126.223 -333525.438)  4007.426442  \n",
       "2    POINT (1712951.727 -200231.269)  7198.553223  \n",
       "3     POINT (1833671.313 -79623.054)  4418.972172  \n",
       "4    POINT (1921659.985 -112174.444)  4997.223163  \n",
       "..                               ...          ...  \n",
       "195  POINT (1912029.573 -220204.526)  2789.935358  \n",
       "196  POINT (1651469.678 -328218.968)  3433.440261  \n",
       "197  POINT (1956064.504 -191577.975)  6104.559787  \n",
       "198  POINT (1848682.909 -274721.379)  2696.384797  \n",
       "199  POINT (1655332.627 -166134.557)  5926.050348  \n",
       "\n",
       "[200 rows x 6 columns]"
      ]
     },
     "execution_count": 14,
     "metadata": {},
     "output_type": "execute_result"
    }
   ],
   "source": [
    "dist_with_search_radius"
   ]
  },
  {
   "cell_type": "markdown",
   "metadata": {},
   "source": [
    "### Without specifying `search_radius`"
   ]
  },
  {
   "cell_type": "code",
   "execution_count": 15,
   "metadata": {},
   "outputs": [
    {
     "name": "stdout",
     "output_type": "stream",
     "text": [
      "No search_radius is specified, the calculation may take longer time for datasets in large volumes.\n",
      "Wall time: 17.3 s\n"
     ]
    }
   ],
   "source": [
    "%%time\n",
    "dist_no_search_radius = dist.dist_to_poly(gdf, park, proj=2163)"
   ]
  },
  {
   "cell_type": "code",
   "execution_count": 16,
   "metadata": {
    "scrolled": true
   },
   "outputs": [
    {
     "data": {
      "text/html": [
       "<div>\n",
       "<style scoped>\n",
       "    .dataframe tbody tr th:only-of-type {\n",
       "        vertical-align: middle;\n",
       "    }\n",
       "\n",
       "    .dataframe tbody tr th {\n",
       "        vertical-align: top;\n",
       "    }\n",
       "\n",
       "    .dataframe thead th {\n",
       "        text-align: right;\n",
       "    }\n",
       "</style>\n",
       "<table border=\"1\" class=\"dataframe\">\n",
       "  <thead>\n",
       "    <tr style=\"text-align: right;\">\n",
       "      <th></th>\n",
       "      <th>pid</th>\n",
       "      <th>timestamp</th>\n",
       "      <th>latitude</th>\n",
       "      <th>longitude</th>\n",
       "      <th>geometry</th>\n",
       "      <th>dist2poly</th>\n",
       "    </tr>\n",
       "  </thead>\n",
       "  <tbody>\n",
       "    <tr>\n",
       "      <th>0</th>\n",
       "      <td>P2</td>\n",
       "      <td>2020-04-27 10:42:22.162176000</td>\n",
       "      <td>40.993799</td>\n",
       "      <td>-76.669419</td>\n",
       "      <td>POINT (1926745.083 -169042.499)</td>\n",
       "      <td>3143.431951</td>\n",
       "    </tr>\n",
       "    <tr>\n",
       "      <th>1</th>\n",
       "      <td>P2</td>\n",
       "      <td>2020-06-02 01:12:45.308505600</td>\n",
       "      <td>39.946904</td>\n",
       "      <td>-78.926234</td>\n",
       "      <td>POINT (1774126.223 -333525.438)</td>\n",
       "      <td>4007.426442</td>\n",
       "    </tr>\n",
       "    <tr>\n",
       "      <th>2</th>\n",
       "      <td>P2</td>\n",
       "      <td>2020-05-08 23:47:33.718185600</td>\n",
       "      <td>41.237403</td>\n",
       "      <td>-79.252317</td>\n",
       "      <td>POINT (1712951.727 -200231.269)</td>\n",
       "      <td>7198.553223</td>\n",
       "    </tr>\n",
       "    <tr>\n",
       "      <th>3</th>\n",
       "      <td>P2</td>\n",
       "      <td>2020-04-26 14:31:12.100310400</td>\n",
       "      <td>41.991390</td>\n",
       "      <td>-77.467769</td>\n",
       "      <td>POINT (1833671.313 -79623.054)</td>\n",
       "      <td>4418.972172</td>\n",
       "    </tr>\n",
       "    <tr>\n",
       "      <th>4</th>\n",
       "      <td>P2</td>\n",
       "      <td>2020-03-31 15:53:27.777897600</td>\n",
       "      <td>41.492674</td>\n",
       "      <td>-76.542921</td>\n",
       "      <td>POINT (1921659.985 -112174.444)</td>\n",
       "      <td>4997.223163</td>\n",
       "    </tr>\n",
       "    <tr>\n",
       "      <th>...</th>\n",
       "      <td>...</td>\n",
       "      <td>...</td>\n",
       "      <td>...</td>\n",
       "      <td>...</td>\n",
       "      <td>...</td>\n",
       "      <td>...</td>\n",
       "    </tr>\n",
       "    <tr>\n",
       "      <th>195</th>\n",
       "      <td>P1</td>\n",
       "      <td>2020-04-14 22:59:47.187801600</td>\n",
       "      <td>40.592932</td>\n",
       "      <td>-77.002548</td>\n",
       "      <td>POINT (1912029.573 -220204.526)</td>\n",
       "      <td>2789.935358</td>\n",
       "    </tr>\n",
       "    <tr>\n",
       "      <th>196</th>\n",
       "      <td>P1</td>\n",
       "      <td>2020-02-18 16:00:05.505350400</td>\n",
       "      <td>40.263436</td>\n",
       "      <td>-80.322911</td>\n",
       "      <td>POINT (1651469.678 -328218.968)</td>\n",
       "      <td>3433.440261</td>\n",
       "    </tr>\n",
       "    <tr>\n",
       "      <th>197</th>\n",
       "      <td>P1</td>\n",
       "      <td>2020-02-24 10:22:29.605353600</td>\n",
       "      <td>40.726640</td>\n",
       "      <td>-76.403706</td>\n",
       "      <td>POINT (1956064.504 -191577.975)</td>\n",
       "      <td>6104.559787</td>\n",
       "    </tr>\n",
       "    <tr>\n",
       "      <th>198</th>\n",
       "      <td>P1</td>\n",
       "      <td>2020-01-13 10:02:15.962697600</td>\n",
       "      <td>40.279678</td>\n",
       "      <td>-77.898978</td>\n",
       "      <td>POINT (1848682.909 -274721.379)</td>\n",
       "      <td>2696.384797</td>\n",
       "    </tr>\n",
       "    <tr>\n",
       "      <th>199</th>\n",
       "      <td>P1</td>\n",
       "      <td>2020-04-02 23:09:49.639881600</td>\n",
       "      <td>41.660656</td>\n",
       "      <td>-79.830351</td>\n",
       "      <td>POINT (1655332.627 -166134.557)</td>\n",
       "      <td>5926.050348</td>\n",
       "    </tr>\n",
       "  </tbody>\n",
       "</table>\n",
       "<p>200 rows × 6 columns</p>\n",
       "</div>"
      ],
      "text/plain": [
       "    pid                      timestamp   latitude  longitude  \\\n",
       "0    P2  2020-04-27 10:42:22.162176000  40.993799 -76.669419   \n",
       "1    P2  2020-06-02 01:12:45.308505600  39.946904 -78.926234   \n",
       "2    P2  2020-05-08 23:47:33.718185600  41.237403 -79.252317   \n",
       "3    P2  2020-04-26 14:31:12.100310400  41.991390 -77.467769   \n",
       "4    P2  2020-03-31 15:53:27.777897600  41.492674 -76.542921   \n",
       "..   ..                            ...        ...        ...   \n",
       "195  P1  2020-04-14 22:59:47.187801600  40.592932 -77.002548   \n",
       "196  P1  2020-02-18 16:00:05.505350400  40.263436 -80.322911   \n",
       "197  P1  2020-02-24 10:22:29.605353600  40.726640 -76.403706   \n",
       "198  P1  2020-01-13 10:02:15.962697600  40.279678 -77.898978   \n",
       "199  P1  2020-04-02 23:09:49.639881600  41.660656 -79.830351   \n",
       "\n",
       "                            geometry    dist2poly  \n",
       "0    POINT (1926745.083 -169042.499)  3143.431951  \n",
       "1    POINT (1774126.223 -333525.438)  4007.426442  \n",
       "2    POINT (1712951.727 -200231.269)  7198.553223  \n",
       "3     POINT (1833671.313 -79623.054)  4418.972172  \n",
       "4    POINT (1921659.985 -112174.444)  4997.223163  \n",
       "..                               ...          ...  \n",
       "195  POINT (1912029.573 -220204.526)  2789.935358  \n",
       "196  POINT (1651469.678 -328218.968)  3433.440261  \n",
       "197  POINT (1956064.504 -191577.975)  6104.559787  \n",
       "198  POINT (1848682.909 -274721.379)  2696.384797  \n",
       "199  POINT (1655332.627 -166134.557)  5926.050348  \n",
       "\n",
       "[200 rows x 6 columns]"
      ]
     },
     "execution_count": 16,
     "metadata": {},
     "output_type": "execute_result"
    }
   ],
   "source": [
    "dist_no_search_radius"
   ]
  },
  {
   "cell_type": "code",
   "execution_count": 18,
   "metadata": {},
   "outputs": [
    {
     "data": {
      "text/html": [
       "<div>\n",
       "<style scoped>\n",
       "    .dataframe tbody tr th:only-of-type {\n",
       "        vertical-align: middle;\n",
       "    }\n",
       "\n",
       "    .dataframe tbody tr th {\n",
       "        vertical-align: top;\n",
       "    }\n",
       "\n",
       "    .dataframe thead th {\n",
       "        text-align: right;\n",
       "    }\n",
       "</style>\n",
       "<table border=\"1\" class=\"dataframe\">\n",
       "  <thead>\n",
       "    <tr style=\"text-align: right;\">\n",
       "      <th></th>\n",
       "      <th>pid</th>\n",
       "      <th>timestamp</th>\n",
       "      <th>latitude</th>\n",
       "      <th>longitude</th>\n",
       "      <th>geometry</th>\n",
       "      <th>dist2poly</th>\n",
       "    </tr>\n",
       "  </thead>\n",
       "  <tbody>\n",
       "  </tbody>\n",
       "</table>\n",
       "</div>"
      ],
      "text/plain": [
       "Empty GeoDataFrame\n",
       "Columns: [pid, timestamp, latitude, longitude, geometry, dist2poly]\n",
       "Index: []"
      ]
     },
     "execution_count": 18,
     "metadata": {},
     "output_type": "execute_result"
    }
   ],
   "source": [
    "dist_no_search_radius[dist_no_search_radius['dist2poly'] == 'NaN']"
   ]
  },
  {
   "cell_type": "code",
   "execution_count": 23,
   "metadata": {},
   "outputs": [
    {
     "data": {
      "text/html": [
       "<div>\n",
       "<style scoped>\n",
       "    .dataframe tbody tr th:only-of-type {\n",
       "        vertical-align: middle;\n",
       "    }\n",
       "\n",
       "    .dataframe tbody tr th {\n",
       "        vertical-align: top;\n",
       "    }\n",
       "\n",
       "    .dataframe thead th {\n",
       "        text-align: right;\n",
       "    }\n",
       "</style>\n",
       "<table border=\"1\" class=\"dataframe\">\n",
       "  <thead>\n",
       "    <tr style=\"text-align: right;\">\n",
       "      <th></th>\n",
       "      <th>count</th>\n",
       "      <th>mean</th>\n",
       "      <th>std</th>\n",
       "      <th>min</th>\n",
       "      <th>25%</th>\n",
       "      <th>50%</th>\n",
       "      <th>75%</th>\n",
       "      <th>max</th>\n",
       "    </tr>\n",
       "  </thead>\n",
       "  <tbody>\n",
       "    <tr>\n",
       "      <th>latitude</th>\n",
       "      <td>200.0</td>\n",
       "      <td>40.878765</td>\n",
       "      <td>0.649778</td>\n",
       "      <td>39.807771</td>\n",
       "      <td>40.321969</td>\n",
       "      <td>40.821446</td>\n",
       "      <td>41.468584</td>\n",
       "      <td>41.991390</td>\n",
       "    </tr>\n",
       "    <tr>\n",
       "      <th>longitude</th>\n",
       "      <td>200.0</td>\n",
       "      <td>-77.732011</td>\n",
       "      <td>1.465171</td>\n",
       "      <td>-80.485216</td>\n",
       "      <td>-78.824666</td>\n",
       "      <td>-77.635756</td>\n",
       "      <td>-76.549980</td>\n",
       "      <td>-75.025528</td>\n",
       "    </tr>\n",
       "    <tr>\n",
       "      <th>dist2poly</th>\n",
       "      <td>185.0</td>\n",
       "      <td>3919.033243</td>\n",
       "      <td>2802.089284</td>\n",
       "      <td>0.000000</td>\n",
       "      <td>1550.077077</td>\n",
       "      <td>3623.525457</td>\n",
       "      <td>5316.719387</td>\n",
       "      <td>13855.516463</td>\n",
       "    </tr>\n",
       "  </tbody>\n",
       "</table>\n",
       "</div>"
      ],
      "text/plain": [
       "           count         mean          std        min          25%  \\\n",
       "latitude   200.0    40.878765     0.649778  39.807771    40.321969   \n",
       "longitude  200.0   -77.732011     1.465171 -80.485216   -78.824666   \n",
       "dist2poly  185.0  3919.033243  2802.089284   0.000000  1550.077077   \n",
       "\n",
       "                   50%          75%           max  \n",
       "latitude     40.821446    41.468584     41.991390  \n",
       "longitude   -77.635756   -76.549980    -75.025528  \n",
       "dist2poly  3623.525457  5316.719387  13855.516463  "
      ]
     },
     "execution_count": 23,
     "metadata": {},
     "output_type": "execute_result"
    }
   ],
   "source": [
    "dist_with_search_radius.describe().T"
   ]
  },
  {
   "cell_type": "code",
   "execution_count": 20,
   "metadata": {},
   "outputs": [
    {
     "data": {
      "text/html": [
       "<div>\n",
       "<style scoped>\n",
       "    .dataframe tbody tr th:only-of-type {\n",
       "        vertical-align: middle;\n",
       "    }\n",
       "\n",
       "    .dataframe tbody tr th {\n",
       "        vertical-align: top;\n",
       "    }\n",
       "\n",
       "    .dataframe thead th {\n",
       "        text-align: right;\n",
       "    }\n",
       "</style>\n",
       "<table border=\"1\" class=\"dataframe\">\n",
       "  <thead>\n",
       "    <tr style=\"text-align: right;\">\n",
       "      <th></th>\n",
       "      <th>count</th>\n",
       "      <th>mean</th>\n",
       "      <th>std</th>\n",
       "      <th>min</th>\n",
       "      <th>25%</th>\n",
       "      <th>50%</th>\n",
       "      <th>75%</th>\n",
       "      <th>max</th>\n",
       "    </tr>\n",
       "  </thead>\n",
       "  <tbody>\n",
       "    <tr>\n",
       "      <th>latitude</th>\n",
       "      <td>200.0</td>\n",
       "      <td>40.878765</td>\n",
       "      <td>0.649778</td>\n",
       "      <td>39.807771</td>\n",
       "      <td>40.321969</td>\n",
       "      <td>40.821446</td>\n",
       "      <td>41.468584</td>\n",
       "      <td>41.991390</td>\n",
       "    </tr>\n",
       "    <tr>\n",
       "      <th>longitude</th>\n",
       "      <td>200.0</td>\n",
       "      <td>-77.732011</td>\n",
       "      <td>1.465171</td>\n",
       "      <td>-80.485216</td>\n",
       "      <td>-78.824666</td>\n",
       "      <td>-77.635756</td>\n",
       "      <td>-76.549980</td>\n",
       "      <td>-75.025528</td>\n",
       "    </tr>\n",
       "    <tr>\n",
       "      <th>dist2poly</th>\n",
       "      <td>200.0</td>\n",
       "      <td>4726.981887</td>\n",
       "      <td>4027.497246</td>\n",
       "      <td>0.000000</td>\n",
       "      <td>1849.390860</td>\n",
       "      <td>3877.189734</td>\n",
       "      <td>5970.677707</td>\n",
       "      <td>21244.390382</td>\n",
       "    </tr>\n",
       "  </tbody>\n",
       "</table>\n",
       "</div>"
      ],
      "text/plain": [
       "           count         mean          std        min          25%  \\\n",
       "latitude   200.0    40.878765     0.649778  39.807771    40.321969   \n",
       "longitude  200.0   -77.732011     1.465171 -80.485216   -78.824666   \n",
       "dist2poly  200.0  4726.981887  4027.497246   0.000000  1849.390860   \n",
       "\n",
       "                   50%          75%           max  \n",
       "latitude     40.821446    41.468584     41.991390  \n",
       "longitude   -77.635756   -76.549980    -75.025528  \n",
       "dist2poly  3877.189734  5970.677707  21244.390382  "
      ]
     },
     "execution_count": 20,
     "metadata": {},
     "output_type": "execute_result"
    }
   ],
   "source": [
    "dist_no_search_radius.describe().T"
   ]
  },
  {
   "cell_type": "markdown",
   "metadata": {},
   "source": [
    "The above results show that specifying a search radius decreases the time needed for the nearest distance calculation, and most of the points have neighbors within the search radius, the final results are similar."
   ]
  }
 ],
 "metadata": {
  "kernelspec": {
   "display_name": "Python 3",
   "language": "python",
   "name": "python3"
  },
  "language_info": {
   "codemirror_mode": {
    "name": "ipython",
    "version": 3
   },
   "file_extension": ".py",
   "mimetype": "text/x-python",
   "name": "python",
   "nbconvert_exporter": "python",
   "pygments_lexer": "ipython3",
   "version": "3.8.8"
  },
  "toc": {
   "base_numbering": 1,
   "nav_menu": {},
   "number_sections": true,
   "sideBar": true,
   "skip_h1_title": false,
   "title_cell": "Table of Contents",
   "title_sidebar": "Contents",
   "toc_cell": false,
   "toc_position": {
    "height": "calc(100% - 180px)",
    "left": "10px",
    "top": "150px",
    "width": "181px"
   },
   "toc_section_display": true,
   "toc_window_display": true
  },
  "varInspector": {
   "cols": {
    "lenName": 16,
    "lenType": 16,
    "lenVar": 40
   },
   "kernels_config": {
    "python": {
     "delete_cmd_postfix": "",
     "delete_cmd_prefix": "del ",
     "library": "var_list.py",
     "varRefreshCmd": "print(var_dic_list())"
    },
    "r": {
     "delete_cmd_postfix": ") ",
     "delete_cmd_prefix": "rm(",
     "library": "var_list.r",
     "varRefreshCmd": "cat(var_dic_list()) "
    }
   },
   "types_to_exclude": [
    "module",
    "function",
    "builtin_function_or_method",
    "instance",
    "_Feature"
   ],
   "window_display": false
  }
 },
 "nbformat": 4,
 "nbformat_minor": 4
}
