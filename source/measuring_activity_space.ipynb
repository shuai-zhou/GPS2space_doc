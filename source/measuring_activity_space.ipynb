{
 "cells": [
  {
   "cell_type": "markdown",
   "metadata": {},
   "source": [
    "# Activity Space"
   ]
  },
  {
   "cell_type": "markdown",
   "metadata": {},
   "source": [
    "With the Point GeoDataFrame, we can measure activity space by building geometric shapes using minimum bounding box methods. There are several ways to build minimum bounding box, including buffer, convex hull, circle, envelope, etc., each with pros and cons depending on the geographic distribution of the Point GeoDataFrame. Currently, we support buffer and convex hull methods in building minimum bounding box and calculating corresponding activity space. The following examples demonstrate how to implement buffer- and convex hull-based activity space. We will use the example data we used in the last section as an example to illustrate how to calculate buffer- and convex hull-based activity space. You can refer to [here](https://github.com/shuai-zhou/gps2space/blob/master/notebooks/createdata.ipynb) for how we compile the data."
   ]
  },
  {
   "cell_type": "markdown",
   "metadata": {},
   "source": [
    "We first need to import libraries we will be using for the examples."
   ]
  },
  {
   "cell_type": "code",
   "execution_count": 1,
   "metadata": {},
   "outputs": [],
   "source": [
    "%matplotlib inline\n",
    "\n",
    "import pandas as pd\n",
    "import geopandas as gpd\n",
    "import matplotlib.pyplot as plt"
   ]
  },
  {
   "cell_type": "markdown",
   "metadata": {},
   "source": [
    "We then load the data and create spatial data using the `df_to_gdf` method as we did in the last section."
   ]
  },
  {
   "cell_type": "code",
   "execution_count": 2,
   "metadata": {
    "scrolled": true
   },
   "outputs": [
    {
     "data": {
      "text/html": [
       "<div>\n",
       "<style scoped>\n",
       "    .dataframe tbody tr th:only-of-type {\n",
       "        vertical-align: middle;\n",
       "    }\n",
       "\n",
       "    .dataframe tbody tr th {\n",
       "        vertical-align: top;\n",
       "    }\n",
       "\n",
       "    .dataframe thead th {\n",
       "        text-align: right;\n",
       "    }\n",
       "</style>\n",
       "<table border=\"1\" class=\"dataframe\">\n",
       "  <thead>\n",
       "    <tr style=\"text-align: right;\">\n",
       "      <th></th>\n",
       "      <th>pid</th>\n",
       "      <th>timestamp</th>\n",
       "      <th>latitude</th>\n",
       "      <th>longitude</th>\n",
       "    </tr>\n",
       "  </thead>\n",
       "  <tbody>\n",
       "    <tr>\n",
       "      <th>0</th>\n",
       "      <td>P2</td>\n",
       "      <td>2020-04-27 10:42:22.162176000</td>\n",
       "      <td>40.993799</td>\n",
       "      <td>-76.669419</td>\n",
       "    </tr>\n",
       "    <tr>\n",
       "      <th>1</th>\n",
       "      <td>P2</td>\n",
       "      <td>2020-06-02 01:12:45.308505600</td>\n",
       "      <td>39.946904</td>\n",
       "      <td>-78.926234</td>\n",
       "    </tr>\n",
       "    <tr>\n",
       "      <th>2</th>\n",
       "      <td>P2</td>\n",
       "      <td>2020-05-08 23:47:33.718185600</td>\n",
       "      <td>41.237403</td>\n",
       "      <td>-79.252317</td>\n",
       "    </tr>\n",
       "    <tr>\n",
       "      <th>3</th>\n",
       "      <td>P2</td>\n",
       "      <td>2020-04-26 14:31:12.100310400</td>\n",
       "      <td>41.991390</td>\n",
       "      <td>-77.467769</td>\n",
       "    </tr>\n",
       "    <tr>\n",
       "      <th>4</th>\n",
       "      <td>P2</td>\n",
       "      <td>2020-03-31 15:53:27.777897600</td>\n",
       "      <td>41.492674</td>\n",
       "      <td>-76.542921</td>\n",
       "    </tr>\n",
       "  </tbody>\n",
       "</table>\n",
       "</div>"
      ],
      "text/plain": [
       "  pid                      timestamp   latitude  longitude\n",
       "0  P2  2020-04-27 10:42:22.162176000  40.993799 -76.669419\n",
       "1  P2  2020-06-02 01:12:45.308505600  39.946904 -78.926234\n",
       "2  P2  2020-05-08 23:47:33.718185600  41.237403 -79.252317\n",
       "3  P2  2020-04-26 14:31:12.100310400  41.991390 -77.467769\n",
       "4  P2  2020-03-31 15:53:27.777897600  41.492674 -76.542921"
      ]
     },
     "execution_count": 2,
     "metadata": {},
     "output_type": "execute_result"
    }
   ],
   "source": [
    "df = pd.read_csv('../data/example.csv')\n",
    "df.head()"
   ]
  },
  {
   "cell_type": "markdown",
   "metadata": {},
   "source": [
    "There are two persons, P1 and P2, and their locations along with timestamp."
   ]
  },
  {
   "cell_type": "code",
   "execution_count": 3,
   "metadata": {},
   "outputs": [],
   "source": [
    "from gps2space import geodf"
   ]
  },
  {
   "cell_type": "code",
   "execution_count": 4,
   "metadata": {
    "scrolled": true
   },
   "outputs": [
    {
     "data": {
      "text/html": [
       "<div>\n",
       "<style scoped>\n",
       "    .dataframe tbody tr th:only-of-type {\n",
       "        vertical-align: middle;\n",
       "    }\n",
       "\n",
       "    .dataframe tbody tr th {\n",
       "        vertical-align: top;\n",
       "    }\n",
       "\n",
       "    .dataframe thead th {\n",
       "        text-align: right;\n",
       "    }\n",
       "</style>\n",
       "<table border=\"1\" class=\"dataframe\">\n",
       "  <thead>\n",
       "    <tr style=\"text-align: right;\">\n",
       "      <th></th>\n",
       "      <th>pid</th>\n",
       "      <th>timestamp</th>\n",
       "      <th>latitude</th>\n",
       "      <th>longitude</th>\n",
       "      <th>geometry</th>\n",
       "    </tr>\n",
       "  </thead>\n",
       "  <tbody>\n",
       "    <tr>\n",
       "      <th>0</th>\n",
       "      <td>P2</td>\n",
       "      <td>2020-04-27 10:42:22.162176000</td>\n",
       "      <td>40.993799</td>\n",
       "      <td>-76.669419</td>\n",
       "      <td>POINT (-76.66942 40.99380)</td>\n",
       "    </tr>\n",
       "    <tr>\n",
       "      <th>1</th>\n",
       "      <td>P2</td>\n",
       "      <td>2020-06-02 01:12:45.308505600</td>\n",
       "      <td>39.946904</td>\n",
       "      <td>-78.926234</td>\n",
       "      <td>POINT (-78.92623 39.94690)</td>\n",
       "    </tr>\n",
       "    <tr>\n",
       "      <th>2</th>\n",
       "      <td>P2</td>\n",
       "      <td>2020-05-08 23:47:33.718185600</td>\n",
       "      <td>41.237403</td>\n",
       "      <td>-79.252317</td>\n",
       "      <td>POINT (-79.25232 41.23740)</td>\n",
       "    </tr>\n",
       "    <tr>\n",
       "      <th>3</th>\n",
       "      <td>P2</td>\n",
       "      <td>2020-04-26 14:31:12.100310400</td>\n",
       "      <td>41.991390</td>\n",
       "      <td>-77.467769</td>\n",
       "      <td>POINT (-77.46777 41.99139)</td>\n",
       "    </tr>\n",
       "    <tr>\n",
       "      <th>4</th>\n",
       "      <td>P2</td>\n",
       "      <td>2020-03-31 15:53:27.777897600</td>\n",
       "      <td>41.492674</td>\n",
       "      <td>-76.542921</td>\n",
       "      <td>POINT (-76.54292 41.49267)</td>\n",
       "    </tr>\n",
       "  </tbody>\n",
       "</table>\n",
       "</div>"
      ],
      "text/plain": [
       "  pid                      timestamp   latitude  longitude  \\\n",
       "0  P2  2020-04-27 10:42:22.162176000  40.993799 -76.669419   \n",
       "1  P2  2020-06-02 01:12:45.308505600  39.946904 -78.926234   \n",
       "2  P2  2020-05-08 23:47:33.718185600  41.237403 -79.252317   \n",
       "3  P2  2020-04-26 14:31:12.100310400  41.991390 -77.467769   \n",
       "4  P2  2020-03-31 15:53:27.777897600  41.492674 -76.542921   \n",
       "\n",
       "                     geometry  \n",
       "0  POINT (-76.66942 40.99380)  \n",
       "1  POINT (-78.92623 39.94690)  \n",
       "2  POINT (-79.25232 41.23740)  \n",
       "3  POINT (-77.46777 41.99139)  \n",
       "4  POINT (-76.54292 41.49267)  "
      ]
     },
     "execution_count": 4,
     "metadata": {},
     "output_type": "execute_result"
    }
   ],
   "source": [
    "gdf = geodf.df_to_gdf(df, x='longitude', y='latitude')\n",
    "gdf.head()"
   ]
  },
  {
   "cell_type": "code",
   "execution_count": 5,
   "metadata": {},
   "outputs": [],
   "source": [
    "pa = gpd.read_file('../data/pacounty.shp')"
   ]
  },
  {
   "cell_type": "code",
   "execution_count": 6,
   "metadata": {
    "scrolled": true
   },
   "outputs": [
    {
     "data": {
      "image/png": "[encoded data removed]",
      "text/plain": [
       "<Figure size 864x864 with 1 Axes>"
      ]
     },
     "metadata": {
      "needs_background": "light"
     },
     "output_type": "display_data"
    }
   ],
   "source": [
    "ax = pa.boundary.plot(figsize=(12, 12), edgecolor='black', linewidth=0.6)\n",
    "gdf.plot(ax=ax, column='pid')\n",
    "\n",
    "plt.show();"
   ]
  },
  {
   "cell_type": "markdown",
   "metadata": {},
   "source": [
    "The figure shows the distribution of our data with two different colors representing P1 and P2, respectively."
   ]
  },
  {
   "cell_type": "markdown",
   "metadata": {},
   "source": [
    "## Buffer-based activity space"
   ]
  },
  {
   "cell_type": "markdown",
   "metadata": {},
   "source": [
    "We import the `space` module. The `space` module has a function `buffer_space` which takes four parameters:\n",
    "\n",
    "- gdf: This is your GeoDataFrame\n",
    "- dist: This is the buffer distance, the default value is 0 meter\n",
    "- dissolve: This is the level of aggregating from which you aggregate points to form polygon, the default value is week\n",
    "- proj: This is the EPSG identifier you want to use to project your spatial data, the default value is 2163\n",
    "\n",
    "**Please note:** Buffer distance and your projection are related. For raw Lat/Long coordinate pairs (often called unprojected data), the unit is degree. It is not usual to buffer geometry in degrees. You have to decide which projection system is most appropriate for your own data based on the geographical location. For example, **EPSG:2163** is commonly used in the United States, and the unit of distance is meter. See [here](https://epsg.io/) for more information about EPSG identifier.\n",
    "\n",
    "In this example, we will calculate activity space on a weekly basis. Before that, we need to create a column represents `week` from the timestamp. We will also create `year` and `month` just to show how you can obtain those information from timestamp. It is better to include `infer_datetime_format=True` because this will make `datetime` function much faster, especially when dealing with big data."
   ]
  },
  {
   "cell_type": "code",
   "execution_count": 7,
   "metadata": {},
   "outputs": [
    {
     "name": "stderr",
     "output_type": "stream",
     "text": [
      "<ipython-input-7-0eabe24f516a>:4: FutureWarning: Series.dt.weekofyear and Series.dt.week have been deprecated.  Please use Series.dt.isocalendar().week instead.\n",
      "  gdf['week'] = gdf['timestamp'].dt.week\n"
     ]
    },
    {
     "data": {
      "text/html": [
       "<div>\n",
       "<style scoped>\n",
       "    .dataframe tbody tr th:only-of-type {\n",
       "        vertical-align: middle;\n",
       "    }\n",
       "\n",
       "    .dataframe tbody tr th {\n",
       "        vertical-align: top;\n",
       "    }\n",
       "\n",
       "    .dataframe thead th {\n",
       "        text-align: right;\n",
       "    }\n",
       "</style>\n",
       "<table border=\"1\" class=\"dataframe\">\n",
       "  <thead>\n",
       "    <tr style=\"text-align: right;\">\n",
       "      <th></th>\n",
       "      <th>pid</th>\n",
       "      <th>timestamp</th>\n",
       "      <th>latitude</th>\n",
       "      <th>longitude</th>\n",
       "      <th>geometry</th>\n",
       "      <th>year</th>\n",
       "      <th>month</th>\n",
       "      <th>week</th>\n",
       "    </tr>\n",
       "  </thead>\n",
       "  <tbody>\n",
       "    <tr>\n",
       "      <th>0</th>\n",
       "      <td>P2</td>\n",
       "      <td>2020-04-27 10:42:22.162176000</td>\n",
       "      <td>40.993799</td>\n",
       "      <td>-76.669419</td>\n",
       "      <td>POINT (-76.66942 40.99380)</td>\n",
       "      <td>2020</td>\n",
       "      <td>4</td>\n",
       "      <td>18</td>\n",
       "    </tr>\n",
       "    <tr>\n",
       "      <th>1</th>\n",
       "      <td>P2</td>\n",
       "      <td>2020-06-02 01:12:45.308505600</td>\n",
       "      <td>39.946904</td>\n",
       "      <td>-78.926234</td>\n",
       "      <td>POINT (-78.92623 39.94690)</td>\n",
       "      <td>2020</td>\n",
       "      <td>6</td>\n",
       "      <td>23</td>\n",
       "    </tr>\n",
       "    <tr>\n",
       "      <th>2</th>\n",
       "      <td>P2</td>\n",
       "      <td>2020-05-08 23:47:33.718185600</td>\n",
       "      <td>41.237403</td>\n",
       "      <td>-79.252317</td>\n",
       "      <td>POINT (-79.25232 41.23740)</td>\n",
       "      <td>2020</td>\n",
       "      <td>5</td>\n",
       "      <td>19</td>\n",
       "    </tr>\n",
       "    <tr>\n",
       "      <th>3</th>\n",
       "      <td>P2</td>\n",
       "      <td>2020-04-26 14:31:12.100310400</td>\n",
       "      <td>41.991390</td>\n",
       "      <td>-77.467769</td>\n",
       "      <td>POINT (-77.46777 41.99139)</td>\n",
       "      <td>2020</td>\n",
       "      <td>4</td>\n",
       "      <td>17</td>\n",
       "    </tr>\n",
       "    <tr>\n",
       "      <th>4</th>\n",
       "      <td>P2</td>\n",
       "      <td>2020-03-31 15:53:27.777897600</td>\n",
       "      <td>41.492674</td>\n",
       "      <td>-76.542921</td>\n",
       "      <td>POINT (-76.54292 41.49267)</td>\n",
       "      <td>2020</td>\n",
       "      <td>3</td>\n",
       "      <td>14</td>\n",
       "    </tr>\n",
       "  </tbody>\n",
       "</table>\n",
       "</div>"
      ],
      "text/plain": [
       "  pid                     timestamp   latitude  longitude  \\\n",
       "0  P2 2020-04-27 10:42:22.162176000  40.993799 -76.669419   \n",
       "1  P2 2020-06-02 01:12:45.308505600  39.946904 -78.926234   \n",
       "2  P2 2020-05-08 23:47:33.718185600  41.237403 -79.252317   \n",
       "3  P2 2020-04-26 14:31:12.100310400  41.991390 -77.467769   \n",
       "4  P2 2020-03-31 15:53:27.777897600  41.492674 -76.542921   \n",
       "\n",
       "                     geometry  year  month  week  \n",
       "0  POINT (-76.66942 40.99380)  2020      4    18  \n",
       "1  POINT (-78.92623 39.94690)  2020      6    23  \n",
       "2  POINT (-79.25232 41.23740)  2020      5    19  \n",
       "3  POINT (-77.46777 41.99139)  2020      4    17  \n",
       "4  POINT (-76.54292 41.49267)  2020      3    14  "
      ]
     },
     "execution_count": 7,
     "metadata": {},
     "output_type": "execute_result"
    }
   ],
   "source": [
    "gdf['timestamp'] = pd.to_datetime(gdf['timestamp'], infer_datetime_format=True)\n",
    "gdf['year'] = gdf['timestamp'].dt.year\n",
    "gdf['month'] = gdf['timestamp'].dt.month\n",
    "gdf['week'] = gdf['timestamp'].dt.week\n",
    "gdf.head()"
   ]
  },
  {
   "cell_type": "markdown",
   "metadata": {},
   "source": [
    "Now that we have the week column, we can calculate buffer-based activity space on a weekly basis using the `buffer_space` function and pass your choice to the four parameters we mentioned before. In this example, we will use 100 meters as buffer distance and project our data in **EPSG:2163**."
   ]
  },
  {
   "cell_type": "code",
   "execution_count": 8,
   "metadata": {},
   "outputs": [],
   "source": [
    "from gps2space import space"
   ]
  },
  {
   "cell_type": "code",
   "execution_count": 9,
   "metadata": {},
   "outputs": [],
   "source": [
    "buff_space = space.buffer_space(gdf, dist=100, dissolve='week', proj=2163)"
   ]
  },
  {
   "cell_type": "code",
   "execution_count": 10,
   "metadata": {
    "scrolled": true
   },
   "outputs": [
    {
     "data": {
      "text/html": [
       "<div>\n",
       "<style scoped>\n",
       "    .dataframe tbody tr th:only-of-type {\n",
       "        vertical-align: middle;\n",
       "    }\n",
       "\n",
       "    .dataframe tbody tr th {\n",
       "        vertical-align: top;\n",
       "    }\n",
       "\n",
       "    .dataframe thead th {\n",
       "        text-align: right;\n",
       "    }\n",
       "</style>\n",
       "<table border=\"1\" class=\"dataframe\">\n",
       "  <thead>\n",
       "    <tr style=\"text-align: right;\">\n",
       "      <th></th>\n",
       "      <th>week</th>\n",
       "      <th>geometry</th>\n",
       "      <th>pid</th>\n",
       "      <th>timestamp</th>\n",
       "      <th>latitude</th>\n",
       "      <th>longitude</th>\n",
       "      <th>year</th>\n",
       "      <th>month</th>\n",
       "      <th>buff_area</th>\n",
       "    </tr>\n",
       "  </thead>\n",
       "  <tbody>\n",
       "    <tr>\n",
       "      <th>0</th>\n",
       "      <td>1</td>\n",
       "      <td>MULTIPOLYGON (((1720865.011 -318218.702, 17208...</td>\n",
       "      <td>P2</td>\n",
       "      <td>2020-01-05 07:50:30.081292799</td>\n",
       "      <td>40.199583</td>\n",
       "      <td>-79.496295</td>\n",
       "      <td>2020</td>\n",
       "      <td>1</td>\n",
       "      <td>219558.394338</td>\n",
       "    </tr>\n",
       "    <tr>\n",
       "      <th>1</th>\n",
       "      <td>2</td>\n",
       "      <td>MULTIPOLYGON (((1825885.203 -276088.593, 18258...</td>\n",
       "      <td>P2</td>\n",
       "      <td>2020-01-09 09:16:06.603628800</td>\n",
       "      <td>40.156435</td>\n",
       "      <td>-77.230625</td>\n",
       "      <td>2020</td>\n",
       "      <td>1</td>\n",
       "      <td>94096.454716</td>\n",
       "    </tr>\n",
       "    <tr>\n",
       "      <th>2</th>\n",
       "      <td>3</td>\n",
       "      <td>MULTIPOLYGON (((1813177.513 -244398.992, 18131...</td>\n",
       "      <td>P2</td>\n",
       "      <td>2020-01-16 04:50:28.301625600</td>\n",
       "      <td>40.705452</td>\n",
       "      <td>-78.310757</td>\n",
       "      <td>2020</td>\n",
       "      <td>1</td>\n",
       "      <td>188192.909433</td>\n",
       "    </tr>\n",
       "    <tr>\n",
       "      <th>3</th>\n",
       "      <td>4</td>\n",
       "      <td>MULTIPOLYGON (((1745369.818 -298945.761, 17453...</td>\n",
       "      <td>P2</td>\n",
       "      <td>2020-01-26 07:27:26.824550400</td>\n",
       "      <td>41.820474</td>\n",
       "      <td>-76.526561</td>\n",
       "      <td>2020</td>\n",
       "      <td>1</td>\n",
       "      <td>282289.364149</td>\n",
       "    </tr>\n",
       "    <tr>\n",
       "      <th>4</th>\n",
       "      <td>5</td>\n",
       "      <td>MULTIPOLYGON (((1940966.624 -274243.069, 19409...</td>\n",
       "      <td>P2</td>\n",
       "      <td>2020-01-31 16:15:44.942918400</td>\n",
       "      <td>40.820036</td>\n",
       "      <td>-78.510162</td>\n",
       "      <td>2020</td>\n",
       "      <td>1</td>\n",
       "      <td>219558.394338</td>\n",
       "    </tr>\n",
       "  </tbody>\n",
       "</table>\n",
       "</div>"
      ],
      "text/plain": [
       "   week                                           geometry pid  \\\n",
       "0     1  MULTIPOLYGON (((1720865.011 -318218.702, 17208...  P2   \n",
       "1     2  MULTIPOLYGON (((1825885.203 -276088.593, 18258...  P2   \n",
       "2     3  MULTIPOLYGON (((1813177.513 -244398.992, 18131...  P2   \n",
       "3     4  MULTIPOLYGON (((1745369.818 -298945.761, 17453...  P2   \n",
       "4     5  MULTIPOLYGON (((1940966.624 -274243.069, 19409...  P2   \n",
       "\n",
       "                      timestamp   latitude  longitude  year  month  \\\n",
       "0 2020-01-05 07:50:30.081292799  40.199583 -79.496295  2020      1   \n",
       "1 2020-01-09 09:16:06.603628800  40.156435 -77.230625  2020      1   \n",
       "2 2020-01-16 04:50:28.301625600  40.705452 -78.310757  2020      1   \n",
       "3 2020-01-26 07:27:26.824550400  41.820474 -76.526561  2020      1   \n",
       "4 2020-01-31 16:15:44.942918400  40.820036 -78.510162  2020      1   \n",
       "\n",
       "       buff_area  \n",
       "0  219558.394338  \n",
       "1   94096.454716  \n",
       "2  188192.909433  \n",
       "3  282289.364149  \n",
       "4  219558.394338  "
      ]
     },
     "execution_count": 10,
     "metadata": {},
     "output_type": "execute_result"
    }
   ],
   "source": [
    "buff_space.head()"
   ]
  },
  {
   "cell_type": "markdown",
   "metadata": {},
   "source": [
    "We can double-check what is the unit in **EPSG:2163** projection system:"
   ]
  },
  {
   "cell_type": "code",
   "execution_count": 11,
   "metadata": {},
   "outputs": [
    {
     "data": {
      "text/plain": [
       "'metre'"
      ]
     },
     "execution_count": 11,
     "metadata": {},
     "output_type": "execute_result"
    }
   ],
   "source": [
    "buff_space.crs.axis_info[0].unit_name"
   ]
  },
  {
   "cell_type": "markdown",
   "metadata": {},
   "source": [
    "The result is \"metre\". Accordingly, the `buff_area` column represents the buffer-based activity space measured in square meters on a weekly basis. You probably noticed that this example did not separate P1 and P2 in calculating activity space. Currently, the `dissolve` parameter only accept one string, not a list of strings. To get activity space for each person on a weekly basis is easy, all you need to do is to concatenate `pid` and `week`, then dissolve by the newly created column."
   ]
  },
  {
   "cell_type": "code",
   "execution_count": 12,
   "metadata": {},
   "outputs": [
    {
     "data": {
      "text/html": [
       "<div>\n",
       "<style scoped>\n",
       "    .dataframe tbody tr th:only-of-type {\n",
       "        vertical-align: middle;\n",
       "    }\n",
       "\n",
       "    .dataframe tbody tr th {\n",
       "        vertical-align: top;\n",
       "    }\n",
       "\n",
       "    .dataframe thead th {\n",
       "        text-align: right;\n",
       "    }\n",
       "</style>\n",
       "<table border=\"1\" class=\"dataframe\">\n",
       "  <thead>\n",
       "    <tr style=\"text-align: right;\">\n",
       "      <th></th>\n",
       "      <th>person_week</th>\n",
       "      <th>geometry</th>\n",
       "      <th>year</th>\n",
       "      <th>month</th>\n",
       "      <th>week</th>\n",
       "      <th>buff_area</th>\n",
       "    </tr>\n",
       "  </thead>\n",
       "  <tbody>\n",
       "    <tr>\n",
       "      <th>0</th>\n",
       "      <td>P1_1</td>\n",
       "      <td>MULTIPOLYGON (((1743323.684 -263848.055, 17433...</td>\n",
       "      <td>2020</td>\n",
       "      <td>1</td>\n",
       "      <td>1</td>\n",
       "      <td>94096.454716</td>\n",
       "    </tr>\n",
       "    <tr>\n",
       "      <th>1</th>\n",
       "      <td>P1_10</td>\n",
       "      <td>MULTIPOLYGON (((1910983.134 -311490.071, 19109...</td>\n",
       "      <td>2020</td>\n",
       "      <td>3</td>\n",
       "      <td>10</td>\n",
       "      <td>156827.424527</td>\n",
       "    </tr>\n",
       "    <tr>\n",
       "      <th>2</th>\n",
       "      <td>P1_11</td>\n",
       "      <td>POLYGON ((1639281.583 -176601.784, 1639281.101...</td>\n",
       "      <td>2020</td>\n",
       "      <td>3</td>\n",
       "      <td>11</td>\n",
       "      <td>31365.484905</td>\n",
       "    </tr>\n",
       "    <tr>\n",
       "      <th>3</th>\n",
       "      <td>P1_12</td>\n",
       "      <td>MULTIPOLYGON (((2042446.492 -187461.495, 20424...</td>\n",
       "      <td>2020</td>\n",
       "      <td>3</td>\n",
       "      <td>12</td>\n",
       "      <td>62730.969811</td>\n",
       "    </tr>\n",
       "    <tr>\n",
       "      <th>4</th>\n",
       "      <td>P1_13</td>\n",
       "      <td>MULTIPOLYGON (((1736945.903 -338011.606, 17369...</td>\n",
       "      <td>2020</td>\n",
       "      <td>3</td>\n",
       "      <td>13</td>\n",
       "      <td>94096.454716</td>\n",
       "    </tr>\n",
       "  </tbody>\n",
       "</table>\n",
       "</div>"
      ],
      "text/plain": [
       "  person_week                                           geometry  year  month  \\\n",
       "0        P1_1  MULTIPOLYGON (((1743323.684 -263848.055, 17433...  2020      1   \n",
       "1       P1_10  MULTIPOLYGON (((1910983.134 -311490.071, 19109...  2020      3   \n",
       "2       P1_11  POLYGON ((1639281.583 -176601.784, 1639281.101...  2020      3   \n",
       "3       P1_12  MULTIPOLYGON (((2042446.492 -187461.495, 20424...  2020      3   \n",
       "4       P1_13  MULTIPOLYGON (((1736945.903 -338011.606, 17369...  2020      3   \n",
       "\n",
       "   week      buff_area  \n",
       "0     1   94096.454716  \n",
       "1    10  156827.424527  \n",
       "2    11   31365.484905  \n",
       "3    12   62730.969811  \n",
       "4    13   94096.454716  "
      ]
     },
     "execution_count": 12,
     "metadata": {},
     "output_type": "execute_result"
    }
   ],
   "source": [
    "gdf['person_week'] = gdf['pid'].astype(str) + '_' + gdf['week'].astype(str)\n",
    "buff_space_person_week = space.buffer_space(gdf, dist=100, dissolve='person_week', proj=2163)\n",
    "buff_space_person_week[['person_week','geometry','year','month','week','buff_area']].head()"
   ]
  },
  {
   "cell_type": "markdown",
   "metadata": {},
   "source": [
    "Now you get the activity space for each person on a weekly basis. Likewise, you can easily get each person's activity space on a yearly basis by simply concatenating `pid` and `year`, or activity space on a monthly basis by simply concatenating `pid` and `month`\n",
    "\n",
    "You can select the columns you are interested and save the GeoDataFrame to a spatial dataset or non-spatial dataset. Here, we save the GeoDataFrame to a `shp` file and a `csv` file."
   ]
  },
  {
   "cell_type": "code",
   "execution_count": 13,
   "metadata": {},
   "outputs": [
    {
     "name": "stderr",
     "output_type": "stream",
     "text": [
      "<ipython-input-13-69566ebaa6bd>:1: UserWarning: Column names longer than 10 characters will be truncated when saved to ESRI Shapefile.\n",
      "  buff_space_person_week[['person_week','buff_area','geometry']].to_file('../data/buffer_space.shp')\n"
     ]
    }
   ],
   "source": [
    "buff_space_person_week[['person_week','buff_area','geometry']].to_file('../data/buffer_space.shp')\n",
    "buff_space_person_week[['person_week','buff_area']].to_csv('../data/buffer_space.csv')"
   ]
  },
  {
   "cell_type": "markdown",
   "metadata": {},
   "source": [
    "## Convex hull-based space"
   ]
  },
  {
   "cell_type": "markdown",
   "metadata": {},
   "source": [
    "We can also calculate the convex hull-based activity space using the `convex_space` function. The `convex_space` takes three parameters:\n",
    "\n",
    "- gdf: This is your GeoDataFrame\n",
    "- group: This is the level of aggregating from which you group points to form polygon, the default value is week\n",
    "- proj: This is the EPSG identifier you want to use to project your spatial data, the default value is 2163\n",
    "\n",
    "In this example, we will dissolve the points by `person_week`"
   ]
  },
  {
   "cell_type": "code",
   "execution_count": 14,
   "metadata": {},
   "outputs": [],
   "source": [
    "convex_space = space.convex_space(gdf, group='person_week', proj=2163)"
   ]
  },
  {
   "cell_type": "code",
   "execution_count": 15,
   "metadata": {},
   "outputs": [
    {
     "data": {
      "text/html": [
       "<div>\n",
       "<style scoped>\n",
       "    .dataframe tbody tr th:only-of-type {\n",
       "        vertical-align: middle;\n",
       "    }\n",
       "\n",
       "    .dataframe tbody tr th {\n",
       "        vertical-align: top;\n",
       "    }\n",
       "\n",
       "    .dataframe thead th {\n",
       "        text-align: right;\n",
       "    }\n",
       "</style>\n",
       "<table border=\"1\" class=\"dataframe\">\n",
       "  <thead>\n",
       "    <tr style=\"text-align: right;\">\n",
       "      <th></th>\n",
       "      <th>person_week</th>\n",
       "      <th>geometry</th>\n",
       "      <th>convex_area</th>\n",
       "      <th>pid</th>\n",
       "      <th>timestamp</th>\n",
       "      <th>latitude</th>\n",
       "      <th>longitude</th>\n",
       "      <th>year</th>\n",
       "      <th>month</th>\n",
       "      <th>week</th>\n",
       "    </tr>\n",
       "  </thead>\n",
       "  <tbody>\n",
       "    <tr>\n",
       "      <th>0</th>\n",
       "      <td>P1_1</td>\n",
       "      <td>POLYGON ((1743224.165 -263838.253, 1767302.859...</td>\n",
       "      <td>4.150956e+09</td>\n",
       "      <td>P1</td>\n",
       "      <td>2020-01-05 02:34:34.559443200</td>\n",
       "      <td>40.619272</td>\n",
       "      <td>-79.083519</td>\n",
       "      <td>2020</td>\n",
       "      <td>1</td>\n",
       "      <td>1</td>\n",
       "    </tr>\n",
       "    <tr>\n",
       "      <th>1</th>\n",
       "      <td>P1_10</td>\n",
       "      <td>POLYGON ((1910885.055 -311470.562, 1770277.130...</td>\n",
       "      <td>2.779601e+10</td>\n",
       "      <td>P1</td>\n",
       "      <td>2020-03-04 15:38:10.246531200</td>\n",
       "      <td>40.720979</td>\n",
       "      <td>-75.939881</td>\n",
       "      <td>2020</td>\n",
       "      <td>3</td>\n",
       "      <td>10</td>\n",
       "    </tr>\n",
       "    <tr>\n",
       "      <th>2</th>\n",
       "      <td>P1_11</td>\n",
       "      <td>POINT (1639181.583 -176601.784)</td>\n",
       "      <td>0.000000e+00</td>\n",
       "      <td>P1</td>\n",
       "      <td>2020-03-14 21:43:34.435401600</td>\n",
       "      <td>41.605263</td>\n",
       "      <td>-80.050210</td>\n",
       "      <td>2020</td>\n",
       "      <td>3</td>\n",
       "      <td>11</td>\n",
       "    </tr>\n",
       "    <tr>\n",
       "      <th>3</th>\n",
       "      <td>P1_12</td>\n",
       "      <td>LINESTRING (1728441.354 -131257.473, 2042346.9...</td>\n",
       "      <td>0.000000e+00</td>\n",
       "      <td>P1</td>\n",
       "      <td>2020-03-19 15:47:51.952416000</td>\n",
       "      <td>41.797624</td>\n",
       "      <td>-78.867266</td>\n",
       "      <td>2020</td>\n",
       "      <td>3</td>\n",
       "      <td>12</td>\n",
       "    </tr>\n",
       "    <tr>\n",
       "      <th>4</th>\n",
       "      <td>P1_13</td>\n",
       "      <td>POLYGON ((1736846.385 -338001.805, 1838266.575...</td>\n",
       "      <td>1.331579e+10</td>\n",
       "      <td>P1</td>\n",
       "      <td>2020-03-25 20:27:12.545942400</td>\n",
       "      <td>41.851171</td>\n",
       "      <td>-77.461965</td>\n",
       "      <td>2020</td>\n",
       "      <td>3</td>\n",
       "      <td>13</td>\n",
       "    </tr>\n",
       "  </tbody>\n",
       "</table>\n",
       "</div>"
      ],
      "text/plain": [
       "  person_week                                           geometry  \\\n",
       "0        P1_1  POLYGON ((1743224.165 -263838.253, 1767302.859...   \n",
       "1       P1_10  POLYGON ((1910885.055 -311470.562, 1770277.130...   \n",
       "2       P1_11                    POINT (1639181.583 -176601.784)   \n",
       "3       P1_12  LINESTRING (1728441.354 -131257.473, 2042346.9...   \n",
       "4       P1_13  POLYGON ((1736846.385 -338001.805, 1838266.575...   \n",
       "\n",
       "    convex_area pid                     timestamp   latitude  longitude  year  \\\n",
       "0  4.150956e+09  P1 2020-01-05 02:34:34.559443200  40.619272 -79.083519  2020   \n",
       "1  2.779601e+10  P1 2020-03-04 15:38:10.246531200  40.720979 -75.939881  2020   \n",
       "2  0.000000e+00  P1 2020-03-14 21:43:34.435401600  41.605263 -80.050210  2020   \n",
       "3  0.000000e+00  P1 2020-03-19 15:47:51.952416000  41.797624 -78.867266  2020   \n",
       "4  1.331579e+10  P1 2020-03-25 20:27:12.545942400  41.851171 -77.461965  2020   \n",
       "\n",
       "   month  week  \n",
       "0      1     1  \n",
       "1      3    10  \n",
       "2      3    11  \n",
       "3      3    12  \n",
       "4      3    13  "
      ]
     },
     "execution_count": 15,
     "metadata": {},
     "output_type": "execute_result"
    }
   ],
   "source": [
    "convex_space.head()"
   ]
  },
  {
   "cell_type": "markdown",
   "metadata": {},
   "source": [
    "The `convx_area` column represents the convex hull-based activity space measured in square meters in **EPSG:2163**. This dataset is not perfect, we see that in Week 11 for P1, there is only one point, therefore a Point shape is constructed and 0 is returned for its area. Similarly, in Week 12 for P1, a line shape is constructed rather than a Polygon and 0 is returned for its area. You can also save this GeoDataFrame to a spatial dataset or a non-spatial dataset just like what we have done for the buffer-based activity space measure."
   ]
  },
  {
   "cell_type": "markdown",
   "metadata": {},
   "source": [
    "## Which method to choose"
   ]
  },
  {
   "cell_type": "markdown",
   "metadata": {},
   "source": [
    "There are pros and cons of the buffer- and convex hull-based measure of activity space. Knowing how they work will help you understand the process and choose the appropriate method.\n",
    "\n",
    "The following figure shows the buffer-based activity space (in red color) and convex hull-based activity space (in blue color) from a set of Lat/Long coordinate pairs (in black color). In essence, what buffer-based activity space does is: first, draw a circle around every point using specified buffer distance, then dissolve all the buffers into a single feature to form a Polygon. What convex hull-based activity space does is to line up the outermost points and form the polygon."
   ]
  },
  {
   "cell_type": "markdown",
   "metadata": {},
   "source": [
    "<div>\n",
    "<img src=\"./_static/buffconvex300.png\" width=\"500\">\n",
    "</div>"
   ]
  },
  {
   "cell_type": "markdown",
   "metadata": {},
   "source": [
    "The pro of buffer-based activity space is that it works with even only one point where the activity space is eventually the area of the circle. However, you have to specify the buffer distance which sometimes is arbitrary and varies across disciplines.\n",
    "\n",
    "The convex hull-based activity space does not need any arbitrary parameter. However, if there are two or three points that can line up, it is impossible to form an enclosing shape, and the returned activity space will be 0. In addition, if there are extreme points that are beyond the point cluster, the convex hull-based activity space will be inflated.\n",
    "\n",
    "The choice of methods depends on which one makes more sense for you research questions and which one is widely acceptable in your field.\n",
    "\n",
    "Other than the buffer- and convex hull-based minimum bounding box, there are other methods, for example, circle, envelope, concave, etc. We may (or may not) include those methods in our package later on."
   ]
  },
  {
   "cell_type": "markdown",
   "metadata": {},
   "source": [
    "# Shared space"
   ]
  },
  {
   "cell_type": "markdown",
   "metadata": {},
   "source": [
    "Activity space can act as the building box for compiling shared space to indicate interactions by overlaying the activity space at different scales. In the following example, we provide a workflow for building shared space from activity space between P1 and P2 on a weekly basis. We use the buffer-based activity space and redo it with buffer distance of 1000 meter to get more overlapping areas for P1 and P2."
   ]
  },
  {
   "cell_type": "code",
   "execution_count": 16,
   "metadata": {},
   "outputs": [
    {
     "data": {
      "text/html": [
       "<div>\n",
       "<style scoped>\n",
       "    .dataframe tbody tr th:only-of-type {\n",
       "        vertical-align: middle;\n",
       "    }\n",
       "\n",
       "    .dataframe tbody tr th {\n",
       "        vertical-align: top;\n",
       "    }\n",
       "\n",
       "    .dataframe thead th {\n",
       "        text-align: right;\n",
       "    }\n",
       "</style>\n",
       "<table border=\"1\" class=\"dataframe\">\n",
       "  <thead>\n",
       "    <tr style=\"text-align: right;\">\n",
       "      <th></th>\n",
       "      <th>pid</th>\n",
       "      <th>timestamp</th>\n",
       "      <th>latitude</th>\n",
       "      <th>longitude</th>\n",
       "      <th>geometry</th>\n",
       "      <th>year</th>\n",
       "      <th>month</th>\n",
       "      <th>week</th>\n",
       "      <th>person_week</th>\n",
       "    </tr>\n",
       "  </thead>\n",
       "  <tbody>\n",
       "    <tr>\n",
       "      <th>0</th>\n",
       "      <td>P2</td>\n",
       "      <td>2020-04-27 10:42:22.162176000</td>\n",
       "      <td>40.993799</td>\n",
       "      <td>-76.669419</td>\n",
       "      <td>POINT (-76.66942 40.99380)</td>\n",
       "      <td>2020</td>\n",
       "      <td>4</td>\n",
       "      <td>18</td>\n",
       "      <td>P2_18</td>\n",
       "    </tr>\n",
       "    <tr>\n",
       "      <th>1</th>\n",
       "      <td>P2</td>\n",
       "      <td>2020-06-02 01:12:45.308505600</td>\n",
       "      <td>39.946904</td>\n",
       "      <td>-78.926234</td>\n",
       "      <td>POINT (-78.92623 39.94690)</td>\n",
       "      <td>2020</td>\n",
       "      <td>6</td>\n",
       "      <td>23</td>\n",
       "      <td>P2_23</td>\n",
       "    </tr>\n",
       "    <tr>\n",
       "      <th>2</th>\n",
       "      <td>P2</td>\n",
       "      <td>2020-05-08 23:47:33.718185600</td>\n",
       "      <td>41.237403</td>\n",
       "      <td>-79.252317</td>\n",
       "      <td>POINT (-79.25232 41.23740)</td>\n",
       "      <td>2020</td>\n",
       "      <td>5</td>\n",
       "      <td>19</td>\n",
       "      <td>P2_19</td>\n",
       "    </tr>\n",
       "    <tr>\n",
       "      <th>3</th>\n",
       "      <td>P2</td>\n",
       "      <td>2020-04-26 14:31:12.100310400</td>\n",
       "      <td>41.991390</td>\n",
       "      <td>-77.467769</td>\n",
       "      <td>POINT (-77.46777 41.99139)</td>\n",
       "      <td>2020</td>\n",
       "      <td>4</td>\n",
       "      <td>17</td>\n",
       "      <td>P2_17</td>\n",
       "    </tr>\n",
       "    <tr>\n",
       "      <th>4</th>\n",
       "      <td>P2</td>\n",
       "      <td>2020-03-31 15:53:27.777897600</td>\n",
       "      <td>41.492674</td>\n",
       "      <td>-76.542921</td>\n",
       "      <td>POINT (-76.54292 41.49267)</td>\n",
       "      <td>2020</td>\n",
       "      <td>3</td>\n",
       "      <td>14</td>\n",
       "      <td>P2_14</td>\n",
       "    </tr>\n",
       "  </tbody>\n",
       "</table>\n",
       "</div>"
      ],
      "text/plain": [
       "  pid                     timestamp   latitude  longitude  \\\n",
       "0  P2 2020-04-27 10:42:22.162176000  40.993799 -76.669419   \n",
       "1  P2 2020-06-02 01:12:45.308505600  39.946904 -78.926234   \n",
       "2  P2 2020-05-08 23:47:33.718185600  41.237403 -79.252317   \n",
       "3  P2 2020-04-26 14:31:12.100310400  41.991390 -77.467769   \n",
       "4  P2 2020-03-31 15:53:27.777897600  41.492674 -76.542921   \n",
       "\n",
       "                     geometry  year  month  week person_week  \n",
       "0  POINT (-76.66942 40.99380)  2020      4    18       P2_18  \n",
       "1  POINT (-78.92623 39.94690)  2020      6    23       P2_23  \n",
       "2  POINT (-79.25232 41.23740)  2020      5    19       P2_19  \n",
       "3  POINT (-77.46777 41.99139)  2020      4    17       P2_17  \n",
       "4  POINT (-76.54292 41.49267)  2020      3    14       P2_14  "
      ]
     },
     "execution_count": 16,
     "metadata": {},
     "output_type": "execute_result"
    }
   ],
   "source": [
    "gdf.head()"
   ]
  },
  {
   "cell_type": "code",
   "execution_count": 17,
   "metadata": {},
   "outputs": [],
   "source": [
    "buff1000m = space.buffer_space(gdf, dist=1000, dissolve='person_week', proj=2163)"
   ]
  },
  {
   "cell_type": "code",
   "execution_count": 18,
   "metadata": {},
   "outputs": [
    {
     "data": {
      "text/html": [
       "<div>\n",
       "<style scoped>\n",
       "    .dataframe tbody tr th:only-of-type {\n",
       "        vertical-align: middle;\n",
       "    }\n",
       "\n",
       "    .dataframe tbody tr th {\n",
       "        vertical-align: top;\n",
       "    }\n",
       "\n",
       "    .dataframe thead th {\n",
       "        text-align: right;\n",
       "    }\n",
       "</style>\n",
       "<table border=\"1\" class=\"dataframe\">\n",
       "  <thead>\n",
       "    <tr style=\"text-align: right;\">\n",
       "      <th></th>\n",
       "      <th>person_week</th>\n",
       "      <th>geometry</th>\n",
       "      <th>pid</th>\n",
       "      <th>timestamp</th>\n",
       "      <th>latitude</th>\n",
       "      <th>longitude</th>\n",
       "      <th>year</th>\n",
       "      <th>month</th>\n",
       "      <th>week</th>\n",
       "      <th>buff_area</th>\n",
       "    </tr>\n",
       "  </thead>\n",
       "  <tbody>\n",
       "    <tr>\n",
       "      <th>0</th>\n",
       "      <td>P1_1</td>\n",
       "      <td>MULTIPOLYGON (((1744219.350 -263936.270, 17442...</td>\n",
       "      <td>P1</td>\n",
       "      <td>2020-01-05 02:34:34.559443200</td>\n",
       "      <td>40.619272</td>\n",
       "      <td>-79.083519</td>\n",
       "      <td>2020</td>\n",
       "      <td>1</td>\n",
       "      <td>1</td>\n",
       "      <td>9.409645e+06</td>\n",
       "    </tr>\n",
       "    <tr>\n",
       "      <th>1</th>\n",
       "      <td>P1_10</td>\n",
       "      <td>MULTIPOLYGON (((1911865.841 -311665.653, 19118...</td>\n",
       "      <td>P1</td>\n",
       "      <td>2020-03-04 15:38:10.246531200</td>\n",
       "      <td>40.720979</td>\n",
       "      <td>-75.939881</td>\n",
       "      <td>2020</td>\n",
       "      <td>3</td>\n",
       "      <td>10</td>\n",
       "      <td>1.568274e+07</td>\n",
       "    </tr>\n",
       "    <tr>\n",
       "      <th>2</th>\n",
       "      <td>P1_11</td>\n",
       "      <td>POLYGON ((1640181.583 -176601.784, 1640176.767...</td>\n",
       "      <td>P1</td>\n",
       "      <td>2020-03-14 21:43:34.435401600</td>\n",
       "      <td>41.605263</td>\n",
       "      <td>-80.050210</td>\n",
       "      <td>2020</td>\n",
       "      <td>3</td>\n",
       "      <td>11</td>\n",
       "      <td>3.136548e+06</td>\n",
       "    </tr>\n",
       "    <tr>\n",
       "      <th>3</th>\n",
       "      <td>P1_12</td>\n",
       "      <td>MULTIPOLYGON (((2043342.159 -187549.710, 20433...</td>\n",
       "      <td>P1</td>\n",
       "      <td>2020-03-19 15:47:51.952416000</td>\n",
       "      <td>41.797624</td>\n",
       "      <td>-78.867266</td>\n",
       "      <td>2020</td>\n",
       "      <td>3</td>\n",
       "      <td>12</td>\n",
       "      <td>6.273097e+06</td>\n",
       "    </tr>\n",
       "    <tr>\n",
       "      <th>4</th>\n",
       "      <td>P1_13</td>\n",
       "      <td>MULTIPOLYGON (((1737841.570 -338099.822, 17378...</td>\n",
       "      <td>P1</td>\n",
       "      <td>2020-03-25 20:27:12.545942400</td>\n",
       "      <td>41.851171</td>\n",
       "      <td>-77.461965</td>\n",
       "      <td>2020</td>\n",
       "      <td>3</td>\n",
       "      <td>13</td>\n",
       "      <td>9.409645e+06</td>\n",
       "    </tr>\n",
       "  </tbody>\n",
       "</table>\n",
       "</div>"
      ],
      "text/plain": [
       "  person_week                                           geometry pid  \\\n",
       "0        P1_1  MULTIPOLYGON (((1744219.350 -263936.270, 17442...  P1   \n",
       "1       P1_10  MULTIPOLYGON (((1911865.841 -311665.653, 19118...  P1   \n",
       "2       P1_11  POLYGON ((1640181.583 -176601.784, 1640176.767...  P1   \n",
       "3       P1_12  MULTIPOLYGON (((2043342.159 -187549.710, 20433...  P1   \n",
       "4       P1_13  MULTIPOLYGON (((1737841.570 -338099.822, 17378...  P1   \n",
       "\n",
       "                      timestamp   latitude  longitude  year  month  week  \\\n",
       "0 2020-01-05 02:34:34.559443200  40.619272 -79.083519  2020      1     1   \n",
       "1 2020-03-04 15:38:10.246531200  40.720979 -75.939881  2020      3    10   \n",
       "2 2020-03-14 21:43:34.435401600  41.605263 -80.050210  2020      3    11   \n",
       "3 2020-03-19 15:47:51.952416000  41.797624 -78.867266  2020      3    12   \n",
       "4 2020-03-25 20:27:12.545942400  41.851171 -77.461965  2020      3    13   \n",
       "\n",
       "      buff_area  \n",
       "0  9.409645e+06  \n",
       "1  1.568274e+07  \n",
       "2  3.136548e+06  \n",
       "3  6.273097e+06  \n",
       "4  9.409645e+06  "
      ]
     },
     "execution_count": 18,
     "metadata": {},
     "output_type": "execute_result"
    }
   ],
   "source": [
    "buff1000m.head()"
   ]
  },
  {
   "cell_type": "code",
   "execution_count": 19,
   "metadata": {},
   "outputs": [],
   "source": [
    "share_space_list = []\n",
    "\n",
    "for idx, row in buff1000m.iterrows():\n",
    "    if idx<len(buff1000m.index)-1:\n",
    "        main_poly = buff1000m.iloc[[idx]]\n",
    "        other_poly = buff1000m.iloc[(idx+1):]\n",
    "        share_space = gpd.overlay(main_poly, other_poly, how='intersection')\n",
    "        share_space['share_space'] = share_space.geometry.area\n",
    "        share_space_list.append(share_space)"
   ]
  },
  {
   "cell_type": "code",
   "execution_count": 20,
   "metadata": {},
   "outputs": [
    {
     "data": {
      "text/plain": [
       "(4, 29)"
      ]
     },
     "execution_count": 20,
     "metadata": {},
     "output_type": "execute_result"
    }
   ],
   "source": [
    "df = pd.concat(share_space_list)\n",
    "df.shape"
   ]
  },
  {
   "cell_type": "code",
   "execution_count": 21,
   "metadata": {},
   "outputs": [
    {
     "data": {
      "text/html": [
       "<div>\n",
       "<style scoped>\n",
       "    .dataframe tbody tr th:only-of-type {\n",
       "        vertical-align: middle;\n",
       "    }\n",
       "\n",
       "    .dataframe tbody tr th {\n",
       "        vertical-align: top;\n",
       "    }\n",
       "\n",
       "    .dataframe thead th {\n",
       "        text-align: right;\n",
       "    }\n",
       "</style>\n",
       "<table border=\"1\" class=\"dataframe\">\n",
       "  <thead>\n",
       "    <tr style=\"text-align: right;\">\n",
       "      <th></th>\n",
       "      <th>person_week_1</th>\n",
       "      <th>person_week_2</th>\n",
       "      <th>week_1</th>\n",
       "      <th>week_2</th>\n",
       "      <th>share_space</th>\n",
       "    </tr>\n",
       "  </thead>\n",
       "  <tbody>\n",
       "    <tr>\n",
       "      <th>0</th>\n",
       "      <td>P1_18</td>\n",
       "      <td>P2_5</td>\n",
       "      <td>18.0</td>\n",
       "      <td>5.0</td>\n",
       "      <td>9.145960e+04</td>\n",
       "    </tr>\n",
       "    <tr>\n",
       "      <th>0</th>\n",
       "      <td>P1_27</td>\n",
       "      <td>P2_12</td>\n",
       "      <td>27.0</td>\n",
       "      <td>12.0</td>\n",
       "      <td>1.439406e+06</td>\n",
       "    </tr>\n",
       "    <tr>\n",
       "      <th>0</th>\n",
       "      <td>P1_28</td>\n",
       "      <td>P2_4</td>\n",
       "      <td>28.0</td>\n",
       "      <td>4.0</td>\n",
       "      <td>3.537871e+05</td>\n",
       "    </tr>\n",
       "    <tr>\n",
       "      <th>0</th>\n",
       "      <td>P2_12</td>\n",
       "      <td>P2_31</td>\n",
       "      <td>12.0</td>\n",
       "      <td>31.0</td>\n",
       "      <td>3.973167e+05</td>\n",
       "    </tr>\n",
       "  </tbody>\n",
       "</table>\n",
       "</div>"
      ],
      "text/plain": [
       "  person_week_1 person_week_2  week_1  week_2   share_space\n",
       "0         P1_18          P2_5    18.0     5.0  9.145960e+04\n",
       "0         P1_27         P2_12    27.0    12.0  1.439406e+06\n",
       "0         P1_28          P2_4    28.0     4.0  3.537871e+05\n",
       "0         P2_12         P2_31    12.0    31.0  3.973167e+05"
      ]
     },
     "execution_count": 21,
     "metadata": {},
     "output_type": "execute_result"
    }
   ],
   "source": [
    "df[['person_week_1','person_week_2','week_1','week_2','share_space']]"
   ]
  },
  {
   "cell_type": "markdown",
   "metadata": {},
   "source": [
    "The `share_space` column represents the shared space between P1 and P2 on a weekly basis. Because we compiled the example data randomly, there are not many interactions measured by overlapping activity space on a weekly basis even we use buffer distance of 1000 meters to calculate their activity space. For example, there is a shared space of 9.145960e+04 (~ 91459.6) square meters between P1 at the 18th week of 2020 and P2 at the 5th week of 2020.\n",
    "\n",
    "Please be aware that the above scripts overlay each row on every another row in the data, so there are duplicates, you can select the rows you want to keep. For example, if you are interested in who have shared space with P1, you can just keep those start with P1 in the `person_week_1` (or `person_week_2`) column and export to whatever data formats you want to work with."
   ]
  }
 ],
 "metadata": {
  "kernelspec": {
   "display_name": "Python 3",
   "language": "python",
   "name": "python3"
  },
  "language_info": {
   "codemirror_mode": {
    "name": "ipython",
    "version": 3
   },
   "file_extension": ".py",
   "mimetype": "text/x-python",
   "name": "python",
   "nbconvert_exporter": "python",
   "pygments_lexer": "ipython3",
   "version": "3.8.8"
  },
  "nteract": {
   "version": "0.24.1"
  },
  "toc": {
   "base_numbering": 1,
   "nav_menu": {
    "height": "185px",
    "width": "266px"
   },
   "number_sections": true,
   "sideBar": true,
   "skip_h1_title": false,
   "title_cell": "Table of Contents",
   "title_sidebar": "Contents",
   "toc_cell": false,
   "toc_position": {
    "height": "calc(100% - 180px)",
    "left": "10px",
    "top": "150px",
    "width": "165px"
   },
   "toc_section_display": true,
   "toc_window_display": true
  },
  "varInspector": {
   "cols": {
    "lenName": 16,
    "lenType": 16,
    "lenVar": 40
   },
   "kernels_config": {
    "python": {
     "delete_cmd_postfix": "",
     "delete_cmd_prefix": "del ",
     "library": "var_list.py",
     "varRefreshCmd": "print(var_dic_list())"
    },
    "r": {
     "delete_cmd_postfix": ") ",
     "delete_cmd_prefix": "rm(",
     "library": "var_list.r",
     "varRefreshCmd": "cat(var_dic_list()) "
    }
   },
   "types_to_exclude": [
    "module",
    "function",
    "builtin_function_or_method",
    "instance",
    "_Feature"
   ],
   "window_display": false
  }
 },
 "nbformat": 4,
 "nbformat_minor": 4
}
